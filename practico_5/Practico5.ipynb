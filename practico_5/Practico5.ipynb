{
  "nbformat": 4,
  "nbformat_minor": 0,
  "metadata": {
    "colab": {
      "provenance": []
    },
    "kernelspec": {
      "name": "python3",
      "display_name": "Python 3"
    },
    "language_info": {
      "name": "python"
    }
  },
  "cells": [
    {
      "cell_type": "markdown",
      "source": [
        "# Práctico 5\n",
        "1. Entrena y ajusta un árbol de decisión para el conjunto de datos moons siguiendo estos pasos:\n",
        "  - Usa make_moons(n_samples=10000, noise=0.4) para generar el conjunto de datos moons.\n",
        "  - Usa train_test_split() para dividir el conjunto de datos en un conjunto de entrenamiento y un conjunto de prueba.\n",
        "  - Usa la búsqueda en cuadrícula con validación cruzada (con la ayuda de la clase GridSearchCV) para encontrar buenos valores de hiperparámetros para un DecisionTreeClassifier. Consejo: prueba varios valores para max_leaf_nodes.\n",
        "  - Entrena el modelo en el conjunto de entrenamiento completo utilizando estos hiperparámetros y mide su rendimiento en el conjunto de prueba. Deberías obtener una precisión aproximada del 85% al 87%.\n",
        "1. Cargar el dataset de iris. Tomando solamente las variables de largo y ancho del pétalo, entrenar los distintos modelos de Clasificación que se vieron en clase y comparar los bordes generadas para cada una de las Clases.\n",
        "Modelos:\n",
        "  - Regresión Softmax\n",
        "  - Clasificador Estocástico (utilice 10000 iteraciones)\n",
        "  - SVM lineal\n",
        "  - SVM con kernel (pruebe diferentes kernels)\n",
        "  - Naive Bayes\n",
        "  - Decision Tree (utilice una profundidad máxima de 2)\n",
        "  - KNeighbors (varie el número de vecinos a 3)\n",
        "2. Construya un modelo de ensamble de votación con los modelos anteriores.\n",
        "3. Cree una muestra unidimensional con *y* dependiendo cuadraticamente de *x*, entrenar los distintos modelos de regresión que se vieron en clase y comparar las aproximaciones graficandolas. ¿En caso de querer extrapolar, que modelos no parecen ser una buena elección?\n",
        "Modelos:\n",
        "  - Regresión Lineal\n",
        "  - Regresión Polinomica\n",
        "  - Regresión Lineal Estocástica\n",
        "  - SVM lineal\n",
        "  - SVM con kernel\n",
        "  - Decision Tree\n",
        "  - KNeighbors\n",
        "4. Al igual que con los clasificadores, contruya un modelo de ensamble de votación, pero esta vez de regresión."
      ],
      "metadata": {
        "id": "1My6L2kgUs4B"
      }
    },
    {
      "cell_type": "code",
      "source": [
        "### funcion para graficar \n",
        "from matplotlib.colors import ListedColormap\n",
        "def generate_iris_plot(clasifier):\n",
        "  x0, x1 = np.meshgrid(\n",
        "          np.linspace(0, 8, 500).reshape(-1, 1),\n",
        "          np.linspace(0, 3.5, 200).reshape(-1, 1),\n",
        "      )\n",
        "\n",
        "  X_new = np.c_[x0.ravel(), x1.ravel()]\n",
        "\n",
        "  y_predict = clasifier.predict(X_new)\n",
        "\n",
        "  zz = y_predict.reshape(x0.shape)\n",
        "\n",
        "  plt.figure(figsize=(10, 4))\n",
        "  plt.plot(X[y==2, 0], X[y==2, 1], \"g^\", label=\"Iris virginica\")\n",
        "  plt.plot(X[y==1, 0], X[y==1, 1], \"bs\", label=\"Iris versicolor\")\n",
        "  plt.plot(X[y==0, 0], X[y==0, 1], \"yo\", label=\"Iris setosa\")\n",
        "\n",
        "  \n",
        "  custom_cmap = ListedColormap(['#fafab0','#9898ff','#a0faa0'])\n",
        "\n",
        "  plt.contourf(x0, x1, zz, cmap=custom_cmap)\n",
        "  plt.xlabel(\"Petal length\", fontsize=14)\n",
        "  plt.ylabel(\"Petal width\", fontsize=14)\n",
        "  plt.legend(loc=\"center left\", fontsize=14)\n",
        "  plt.axis([0, 8, 0, 3.5])\n",
        "\n",
        "  plt.show()"
      ],
      "metadata": {
        "id": "nvUslTw6VHbq"
      },
      "execution_count": null,
      "outputs": []
    },
    {
      "cell_type": "markdown",
      "source": [
        "# Preguntas teoricas\n",
        "### Regresión\n",
        "1. ¿Qué algoritmo de entrenamiento de Regresión Lineal puedes usar si tienes un conjunto de entrenamiento con millones de características?\n",
        "2. Supongamos que las características en tu conjunto de entrenamiento tienen escalas muy diferentes. ¿Qué algoritmos podrían sufrir por esto y cómo? ¿Qué puedes hacer al respecto?\n",
        "3. ¿Puede el Descenso de Gradiente quedar atrapado en un mínimo local al entrenar un modelo de Regresión Logística?\n",
        "4. ¿Todos los algoritmos de Descenso de Gradiente conducen al mismo modelo, siempre y cuando los dejes correr el tiempo suficiente?\n",
        "5. Supongamos que usas Descenso de Gradiente por lotes y graficas el error de validación en cada época. Si notas que el error de validación consistentemente aumenta, ¿qué es lo que probablemente está sucediendo? ¿Cómo puedes solucionarlo?\n",
        "6. ¿Es una buena idea detener inmediatamente el Descenso de Gradiente por mini-lotes cuando el error de validación aumenta?\n",
        "7. ¿Qué algoritmo de Descenso de Gradiente (entre los que discutimos) llegará más rápido a la cercanía de la solución óptima? ¿Cuál convergerá realmente? ¿Cómo puedes hacer que los demás también converjan?\n",
        "8. Supongamos que estás utilizando Regresión Polinómica. Graficas las curvas de aprendizaje y notas que hay una gran brecha entre el error de entrenamiento y el error de validación. ¿Qué está sucediendo? ¿Cuáles son tres formas de solucionarlo?\n",
        "9. Supongamos que estás utilizando Regresión Ridge y notas que el error de entrenamiento y el error de validación son casi iguales y bastante altos. ¿Dirías que el modelo sufre de sesgo alto o de varianza alta? ¿Deberías aumentar el hiperparámetro de regularización α o reducirlo?\n",
        "10. ¿Por qué querrías usar:\n",
        "  - Regresión Ridge en lugar de Regresión Lineal simple (es decir, sin regularización)?\n",
        "  - Lasso en lugar de Regresión Ridge?\n",
        "  - Elastic Net en lugar de Lasso?\n",
        "11. Supongamos que quieres clasificar imágenes como exteriores/interiores y diurnas/nocturnas. ¿Deberías implementar dos clasificadores de Regresión Logística o uno de Regresión Softmax?\n",
        "### SVM\n",
        "1. ¿Cuál es la idea fundamental detrás de las Máquinas de Vectores de Soporte?\n",
        "2. ¿Qué es un vector de soporte?\n",
        "3. ¿Por qué es importante escalar las entradas al usar SVM?\n",
        "4. ¿Puede un clasificador SVM producir un puntaje de confianza al clasificar una instancia? ¿Y una probabilidad?\n",
        "5. ¿Deberías usar la forma primal o dual del problema SVM para entrenar un modelo en un conjunto de entrenamiento con millones de instancias y cientos de características?\n",
        "6. Digamos que has entrenado un clasificador SVM con un kernel RBF, pero parece subajustarse al conjunto de entrenamiento. ¿Deberías aumentar o disminuir γ (gamma)? ¿Y C?\n",
        "### Árboles de decisiones\n",
        "1. ¿Cuál es la profundidad aproximada de un árbol de decisión entrenado (sin restricciones) en un conjunto de entrenamiento con un millón de instancias?\n",
        "2. ¿La impureza de Gini de un nodo es generalmente menor o mayor que la de su padre? ¿Es generalmente menor/mayor o siempre menor/mayor?\n",
        "3. Si un árbol de decisión está sobreajustando el conjunto de entrenamiento, ¿es buena idea intentar disminuir max_depth?\n",
        "4. Si un árbol de decisión está subajustando el conjunto de entrenamiento, ¿es buena idea intentar escalar las características de entrada?\n",
        "5. Si tarda una hora en entrenar un árbol de decisión en un conjunto de entrenamiento que contiene 1 millón de instancias, ¿cuánto tiempo aproximado tomará entrenar otro árbol de decisión en un conjunto de entrenamiento que contiene 10 millones de instancias?\n",
        "6. Si su conjunto de entrenamiento contiene 100,000 instancias, ¿establecer presort=True acelerará el entrenamiento?"
      ],
      "metadata": {
        "id": "VlexqIr8X3Os"
      }
    },
    {
      "cell_type": "code",
      "source": [],
      "metadata": {
        "id": "sofxvSWQdbWv"
      },
      "execution_count": null,
      "outputs": []
    }
  ]
}