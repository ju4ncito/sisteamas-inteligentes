{
 "cells": [
  {
   "cell_type": "markdown",
   "id": "941e8954",
   "metadata": {},
   "source": [
    "# Ejercicios de Tipos de Datos Simples\n",
    "\n",
    "0. Escribir un programa que muestre por pantalla la cadena ¡Hola Mundo!."
   ]
  },
  {
   "cell_type": "code",
   "execution_count": 1,
   "id": "9bbc1fd7",
   "metadata": {},
   "outputs": [
    {
     "name": "stdout",
     "output_type": "stream",
     "text": [
      "hello sworld\n"
     ]
    }
   ],
   "source": [
    "print(\"hello sworld\")"
   ]
  },
  {
   "cell_type": "markdown",
   "id": "f0519f5c",
   "metadata": {},
   "source": [
    "1. Escribir un programa que pregunte el nombre del usuario en la consola y después de que el usuario lo introduzca muestre por pantalla la cadena ¡Hola <nombre>!, donde <nombre> es el nombre que el usuario haya introducido."
   ]
  },
  {
   "cell_type": "code",
   "execution_count": 3,
   "id": "65f9ab97",
   "metadata": {},
   "outputs": [
    {
     "name": "stdout",
     "output_type": "stream",
     "text": [
      "Hola  Jony !\n"
     ]
    }
   ],
   "source": [
    "nombre = input('Ingresar nombre')\n",
    "print ('Hola',nombre,'!')"
   ]
  },
  {
   "cell_type": "markdown",
   "id": "4ba0fe88",
   "metadata": {},
   "source": [
    "2. Escribir un programa que pregunte al usuario por el número de horas trabajadas y el coste por hora. Después debe mostrar por pantalla la paga que le corresponde."
   ]
  },
  {
   "cell_type": "code",
   "execution_count": 5,
   "id": "f5872dc8",
   "metadata": {},
   "outputs": [
    {
     "name": "stdout",
     "output_type": "stream",
     "text": [
      "La paga que corresponde es:  6\n"
     ]
    }
   ],
   "source": [
    "horas = input('Ingrese el n de horas trabajadas')\n",
    "coste = input('Ingrese el coste por hora')\n",
    "\n",
    "paga = int(horas) * int(coste)\n",
    "\n",
    "print ('La paga que corresponde es: ', paga )"
   ]
  },
  {
   "cell_type": "markdown",
   "id": "e0c3c4b8",
   "metadata": {},
   "source": [
    "3. Escribir un programa que lea un entero positivo, **n**, introducido por el usuario y después muestre en pantalla la suma de todos los enteros desde 1 hasta **n**. La suma de los **n** primeros enteros positivos puede ser calculada de la siguiente forma: $$ suma = \\frac{n(n+1)}{2}$$"
   ]
  },
  {
   "cell_type": "code",
   "execution_count": 7,
   "id": "b65acefb",
   "metadata": {},
   "outputs": [
    {
     "name": "stdout",
     "output_type": "stream",
     "text": [
      "Suma total:  6.0\n"
     ]
    }
   ],
   "source": [
    "n = input('ingrese n')\n",
    "\n",
    "suma = (int(n) * (int(n) + 1))/2\n",
    "\n",
    "print ('Suma total: ', suma)"
   ]
  },
  {
   "cell_type": "markdown",
   "id": "37474619",
   "metadata": {},
   "source": [
    "4. Escribir un programa que pregunte al usuario una cantidad a invertir, el interés anual y el número de años, y muestre por pantalla el capital obtenido en la inversión."
   ]
  },
  {
   "cell_type": "code",
   "execution_count": 14,
   "id": "aa8524c9",
   "metadata": {},
   "outputs": [
    {
     "name": "stdout",
     "output_type": "stream",
     "text": [
      "110.00000000000001\n"
     ]
    }
   ],
   "source": [
    "invertir = input ('Ingrese la cantidad a invertir')\n",
    "interes = input ('Ingrese la cantidad de interes')\n",
    "anios = input ('Ingrese la cantidad de anios')\n",
    "\n",
    "capital = int(invertir) * ((1 + float(interes)) ** int(anios))\n",
    "\n",
    "print (capital)\n"
   ]
  },
  {
   "cell_type": "markdown",
   "id": "77758fb5",
   "metadata": {},
   "source": [
    "5. Una juguetería tiene mucho éxito en dos de sus productos: payasos y muñecas. Suele hacer venta por correo y la empresa de logística les cobra por peso de cada paquete así que deben calcular el peso de los payasos y muñecas que saldrán en cada paquete a demanda. Cada payaso pesa 112 g y cada muñeca 75 g. Escribir un programa que lea el número de payasos y muñecas vendidos en el último pedido y calcule el peso total del paquete que será enviado."
   ]
  },
  {
   "cell_type": "code",
   "execution_count": 17,
   "id": "556a77e6",
   "metadata": {},
   "outputs": [
    {
     "name": "stdout",
     "output_type": "stream",
     "text": [
      "187.0\n"
     ]
    }
   ],
   "source": [
    "payasos = float(input ('Ingrese la cantidad de payasos'))\n",
    "muniecas = float(input ('Ingrese la cantidad de muniecas'))\n",
    "\n",
    "print (112*payasos + 75*muniecas)"
   ]
  },
  {
   "cell_type": "markdown",
   "id": "9bd44acd",
   "metadata": {},
   "source": [
    "6. Imagina que acabas de abrir una nueva cuenta de ahorros que te ofrece el 4% de interés al año. Estos ahorros debido a intereses, que no se cobran hasta finales de año, se te añaden al balance final de tu cuenta de ahorros. Escribir un programa que comience leyendo la cantidad de dinero depositada en la cuenta de ahorros, introducida por el usuario. Después el programa debe calcular y mostrar por pantalla la cantidad de ahorros tras el primer, segundo y tercer años. Redondear cada cantidad a dos decimales."
   ]
  },
  {
   "cell_type": "code",
   "execution_count": 24,
   "id": "10766284",
   "metadata": {},
   "outputs": [
    {
     "name": "stdout",
     "output_type": "stream",
     "text": [
      "primer anio 104.0\n",
      "primer anio 108.16\n",
      "primer anio, 112.49\n"
     ]
    }
   ],
   "source": [
    "ahorros = float(input ('ingrese la cantidad de dinero ahorrado'))\n",
    "\n",
    "anio_uno = ahorros + ahorros * 0.04 \n",
    "anio_dos = anio_uno + anio_uno*0.04 \n",
    "anio_tres = anio_dos + anio_dos*0.04\n",
    "print('primer anio', anio_uno)\n",
    "print('primer anio', anio_dos)\n",
    "print(f'primer anio, {anio_tres:.2f}')\n",
    "\n",
    "# for i in range(3)\n",
    "# print(f'fondos al i+1 anio {fondo * ((1 + 0.04)**(i+1)):.2f}' )"
   ]
  },
  {
   "cell_type": "markdown",
   "id": "6f64880a",
   "metadata": {},
   "source": [
    "7. Una panadería vende barras de pan a 3.49€ cada una. El pan que no es el día tiene un descuento del 60%. Escribir un programa que comience leyendo el número de barras vendidas que no son del día. Después el programa debe mostrar el precio habitual de una barra de pan, el descuento que se le hace por no ser fresca y el coste final total."
   ]
  },
  {
   "cell_type": "code",
   "execution_count": 22,
   "id": "70e081d4",
   "metadata": {},
   "outputs": [
    {
     "name": "stdout",
     "output_type": "stream",
     "text": [
      "El precio habitual es de 3.49, con esa cantidad seria 3.49\n",
      "El descuento por barra es del 60%, en este caso aplicaria un dto de:  2.094 a favor\n",
      "El precio final es:  1.3960000000000004\n"
     ]
    }
   ],
   "source": [
    "barras_nodia = float(input ('ingrese la cantidad de barras vendidas que no son del dia'))\n",
    "\n",
    "print('El precio habitual es de 3.49, con esa cantidad seria', 3.49 * barras_nodia)\n",
    "print('El descuento por barra es del 60%, en este caso aplicaria un dto de: ', 3.49 * barras_nodia * 0.6, 'a favor')\n",
    "print('El precio final es: ', 3.49 * barras_nodia - (3.49 * barras_nodia * 0.6))\n"
   ]
  },
  {
   "cell_type": "markdown",
   "id": "7746f986",
   "metadata": {},
   "source": [
    "# Ejercicios de Condicionales\n",
    "\n",
    "0. Escribir un programa que pregunte al usuario su edad y muestre por pantalla si es mayor de edad o no."
   ]
  },
  {
   "cell_type": "code",
   "execution_count": 27,
   "id": "1f904a9a",
   "metadata": {},
   "outputs": [
    {
     "name": "stdout",
     "output_type": "stream",
     "text": [
      "menor\n"
     ]
    }
   ],
   "source": [
    "edad = float(input ('ingrese la edad q tiene'))\n",
    "\n",
    "if edad >= 18:\n",
    "    print ('mayor')\n",
    "else:\n",
    "    print ('menor')\n"
   ]
  },
  {
   "cell_type": "markdown",
   "id": "ba028cf3",
   "metadata": {},
   "source": [
    "1. En una determinada empresa, sus empleados son evaluados al final de cada año. Los puntos que pueden obtener en la evaluación comienzan en 0.0 y pueden ir aumentando, traduciéndose en mejores beneficios. Los puntos que pueden conseguir los empleados pueden ser 0.0, 0.4, 0.6 o más, pero no valores intermedios entre las cifras mencionadas. A continuación se muestra una tabla con los niveles correspondientes a cada puntuación. La cantidad de dinero conseguida en cada nivel es de 2.400€ multiplicada por la puntuación del nivel.\n",
    "\n",
    "| Nivel | Puntuación |\n",
    "| --- | --- |\n",
    "| Inaceptable | 0.0 |\n",
    "| Aceptable | 0.4 |\n",
    "| Meritorio | 0.6 o más |\n",
    "\n",
    "Escribir un programa que lea la puntuación del usuario e indique su nivel de rendimiento, así como la cantidad de dinero que recibirá el usuario."
   ]
  },
  {
   "cell_type": "code",
   "execution_count": 34,
   "id": "46ba98d2",
   "metadata": {},
   "outputs": [
    {
     "name": "stdout",
     "output_type": "stream",
     "text": [
      "meritorio 1920.0\n"
     ]
    }
   ],
   "source": [
    "puntuacion = float(input ('ingrese la puntuacion')) \n",
    "\n",
    "if puntuacion == 0:\n",
    "    print('inaceptable', 2400 * puntuacion)\n",
    "elif puntuacion == 0.4:\n",
    "    print('aceptable', 2400 * puntuacion)\n",
    "elif puntuacion >= 0.6:\n",
    "    print('meritorio', 2400 * puntuacion)"
   ]
  },
  {
   "cell_type": "markdown",
   "id": "5ee09454",
   "metadata": {},
   "source": [
    "2. Escribir un programa para una empresa que tiene salas de juegos para todas las edades y quiere calcular de forma automática el precio que debe cobrar a sus clientes por entrar. El programa debe preguntar al usuario la edad del cliente y mostrar el precio de la entrada. Si el cliente es menor de 4 años puede entrar gratis, si tiene entre 4 y 18 años debe pagar 5€ y si es mayor de 18 años, 10€."
   ]
  },
  {
   "cell_type": "code",
   "execution_count": 37,
   "id": "a0dc2457",
   "metadata": {},
   "outputs": [
    {
     "name": "stdout",
     "output_type": "stream",
     "text": [
      "precio de entrada: 5\n"
     ]
    }
   ],
   "source": [
    "edad = float(input ('ingrese la edad'))\n",
    "\n",
    "if edad < 4:\n",
    "    print('precio de entrada: es gratis')\n",
    "elif edad >= 4 and edad <= 18:\n",
    "    print('precio de entrada:', 5)\n",
    "elif edad >= 18:\n",
    "    print('precio de entrada:', 10)\n"
   ]
  },
  {
   "cell_type": "markdown",
   "id": "6b1400f2",
   "metadata": {},
   "source": [
    "3. La pizzería Bella Napoli ofrece pizzas vegetarianas y no vegetarianas a sus clientes. Los ingredientes para cada tipo de pizza aparecen a continuación.\n",
    "\n",
    "Ingredientes vegetarianos: Pimiento y tofu.\n",
    "Ingredientes no vegetarianos: Peperoni, Jamón y Salmón.\n",
    "Escribir un programa que pregunte al usuario si quiere una pizza vegetariana o no, y en función de su respuesta le muestre un menú con los ingredientes disponibles para que elija. Solo se puede eligir un ingrediente además de la mozzarella y el tomate que están en todas la pizzas. Al final se debe mostrar por pantalla si la pizza elegida es vegetariana o no y todos los ingredientes que lleva."
   ]
  },
  {
   "cell_type": "code",
   "execution_count": 38,
   "id": "8e9f3a97",
   "metadata": {},
   "outputs": [
    {
     "name": "stdout",
     "output_type": "stream",
     "text": [
      "La pizza: ['Mozzarella', 'Tomate', 'Pimiento'] es vegetariana\n"
     ]
    }
   ],
   "source": [
    "INGREDIENTES_VEGETARIANOS = ['Pimiento', 'Tofu']\n",
    "INGREDIENTES = INGREDIENTES_VEGETARIANOS + ['Peperoni', 'Jamón', 'Salmón']\n",
    "\n",
    "c = input('Vegetariana? s/n ')\n",
    "vegetariana = False\n",
    "if c in ('s', 'S'):\n",
    "    vegetariana = True\n",
    "\n",
    "elegidos = ['Mozzarella', 'Tomate']\n",
    "ing = INGREDIENTES if not vegetariana else INGREDIENTES_VEGETARIANOS\n",
    "for i in ing:\n",
    "    if input(f'{i}? s/n ') in ('s', 'S'):\n",
    "        elegidos.append(i)\n",
    "        break\n",
    "\n",
    "vegetariana = True\n",
    "if len(elegidos) > 2 and elegidos[2] not in INGREDIENTES_VEGETARIANOS:\n",
    "    vegetariana = False\n",
    "\n",
    "print('La pizza:', elegidos, end=' ')\n",
    "if vegetariana:\n",
    "    print('es vegetariana')\n",
    "else:\n",
    "    print('no es vegetariana')"
   ]
  },
  {
   "cell_type": "markdown",
   "id": "6a9c0c7b",
   "metadata": {},
   "source": [
    "# Ejercicios de Bucles\n",
    "Realizar los ejercicios utilizando **for** y **while**\n",
    "\n",
    "0. Escribir un programa que pida al usuario una palabra y la muestre por pantalla 10 veces."
   ]
  },
  {
   "cell_type": "code",
   "execution_count": 42,
   "id": "9f57d8d9",
   "metadata": {},
   "outputs": [
    {
     "name": "stdout",
     "output_type": "stream",
     "text": [
      "asd 1\n",
      "asd 2\n",
      "asd 3\n",
      "asd 4\n",
      "asd 5\n",
      "asd 6\n",
      "asd 7\n",
      "asd 8\n",
      "asd 9\n",
      "asd 10\n"
     ]
    }
   ],
   "source": [
    "palabra = (input ('ingrese la palabra a repetir 10 veces'))\n",
    "\n",
    "for i in range(10):\n",
    "    print(palabra, i+1)"
   ]
  },
  {
   "cell_type": "markdown",
   "id": "6f41451c",
   "metadata": {},
   "source": [
    "1. Escribir un programa que muestre por pantalla la tabla de multiplicar del 1 al 10."
   ]
  },
  {
   "cell_type": "code",
   "execution_count": 44,
   "id": "67cd29cc",
   "metadata": {},
   "outputs": [
    {
     "name": "stdout",
     "output_type": "stream",
     "text": [
      "0\n",
      "1\n",
      "2\n",
      "3\n",
      "4\n",
      "5\n",
      "6\n",
      "7\n",
      "8\n",
      "9\n",
      "----------\n",
      "0\n",
      "2\n",
      "4\n",
      "6\n",
      "8\n",
      "10\n",
      "12\n",
      "14\n",
      "16\n",
      "18\n",
      "----------\n",
      "0\n",
      "3\n",
      "6\n",
      "9\n",
      "12\n",
      "15\n",
      "18\n",
      "21\n",
      "24\n",
      "27\n",
      "----------\n",
      "0\n",
      "4\n",
      "8\n",
      "12\n",
      "16\n",
      "20\n",
      "24\n",
      "28\n",
      "32\n",
      "36\n",
      "----------\n",
      "0\n",
      "5\n",
      "10\n",
      "15\n",
      "20\n",
      "25\n",
      "30\n",
      "35\n",
      "40\n",
      "45\n",
      "----------\n",
      "0\n",
      "6\n",
      "12\n",
      "18\n",
      "24\n",
      "30\n",
      "36\n",
      "42\n",
      "48\n",
      "54\n",
      "----------\n",
      "0\n",
      "7\n",
      "14\n",
      "21\n",
      "28\n",
      "35\n",
      "42\n",
      "49\n",
      "56\n",
      "63\n",
      "----------\n",
      "0\n",
      "8\n",
      "16\n",
      "24\n",
      "32\n",
      "40\n",
      "48\n",
      "56\n",
      "64\n",
      "72\n",
      "----------\n",
      "0\n",
      "9\n",
      "18\n",
      "27\n",
      "36\n",
      "45\n",
      "54\n",
      "63\n",
      "72\n",
      "81\n",
      "----------\n",
      "0\n",
      "10\n",
      "20\n",
      "30\n",
      "40\n",
      "50\n",
      "60\n",
      "70\n",
      "80\n",
      "90\n",
      "----------\n"
     ]
    }
   ],
   "source": [
    "for i in range(1,11):\n",
    "    for j in range(10):\n",
    "        print(i*j)\n",
    "    print (\"-\"*10)    "
   ]
  },
  {
   "cell_type": "markdown",
   "id": "6dcbf56e",
   "metadata": {},
   "source": [
    "2. Escribir un programa en el que se pregunte al usuario por una frase y una letra, y muestre por pantalla el número de veces que aparece la letra en la frase."
   ]
  },
  {
   "cell_type": "code",
   "execution_count": 51,
   "id": "250caf3f",
   "metadata": {},
   "outputs": [
    {
     "name": "stdout",
     "output_type": "stream",
     "text": [
      "4\n"
     ]
    }
   ],
   "source": [
    "frase = (input ('ingrese la frase'))\n",
    "letra = (input ('ingrese la letra'))\n",
    "\n",
    "contador = 0\n",
    "for i in frase:\n",
    "    if letra == i:\n",
    "        contador = contador + 1\n",
    "\n",
    "print (contador)\n",
    "\n"
   ]
  },
  {
   "cell_type": "markdown",
   "id": "437b4a42",
   "metadata": {},
   "source": [
    "3. Escribir un programa que muestre el eco de todo lo que el usuario introduzca hasta que el usuario escriba “salir” que terminará."
   ]
  },
  {
   "cell_type": "code",
   "execution_count": 1,
   "id": "78fd24db",
   "metadata": {},
   "outputs": [
    {
     "name": "stdout",
     "output_type": "stream",
     "text": [
      "soy\n",
      "juan\n",
      "salire\n"
     ]
    }
   ],
   "source": [
    "frase = (input ('ingrese la frase'))\n",
    "\n",
    "while frase != 'salir':\n",
    "    frase = (input ('ingrese la frase'))\n",
    "    print(frase)"
   ]
  },
  {
   "cell_type": "markdown",
   "id": "21dc00dd",
   "metadata": {},
   "source": [
    "# Ejercicios de Listas y Tuplas\n",
    "\n",
    "1. Escribir un programa que almacene las asignaturas de un curso (por ejemplo Matemáticas, Física, Química, Historia y Lengua) en una lista y la muestre por pantalla."
   ]
  },
  {
   "cell_type": "code",
   "execution_count": 58,
   "id": "f9714c83",
   "metadata": {},
   "outputs": [
    {
     "name": "stdout",
     "output_type": "stream",
     "text": [
      "('asd', 'dsa')\n"
     ]
    }
   ],
   "source": [
    "materias = (input ('Ingrese la materia 1'), input(('materia 2')))\n",
    "\n",
    "print(materias)"
   ]
  },
  {
   "cell_type": "markdown",
   "id": "9dc8de65",
   "metadata": {},
   "source": [
    "2. Escribir un programa que almacene las asignaturas de un curso (por ejemplo Matemáticas, Física, Química, Historia y Lengua) en una lista y la muestre por pantalla el mensaje Yo estudio <asignatura>, donde <asignatura> es cada una de las asignaturas de la lista."
   ]
  },
  {
   "cell_type": "code",
   "execution_count": 59,
   "id": "7cff1152",
   "metadata": {},
   "outputs": [
    {
     "name": "stdout",
     "output_type": "stream",
     "text": [
      "yo estudio asd\n",
      "yo estudio sda\n"
     ]
    }
   ],
   "source": [
    "materias = (input ('Ingrese la materia 1'), input(('materia 2')))\n",
    "\n",
    "for i in range (2):\n",
    " print('yo estudio', materias[i])"
   ]
  },
  {
   "cell_type": "markdown",
   "id": "f3160dad",
   "metadata": {},
   "source": [
    "3. Escribir un programa que almacene las asignaturas de un curso (por ejemplo Matemáticas, Física, Química, Historia y Lengua) en una lista, pregunte al usuario la nota que ha sacado en cada asignatura, y después las muestre por pantalla con el mensaje En <asignatura> has sacado <nota> donde <asignatura> es cada una des las asignaturas de la lista y <nota> cada una de las correspondientes notas introducidas por el usuario."
   ]
  },
  {
   "cell_type": "code",
   "execution_count": 69,
   "id": "33826738",
   "metadata": {},
   "outputs": [
    {
     "name": "stdout",
     "output_type": "stream",
     "text": [
      "En la asignatura Matematicas te sacaste 1.0\n",
      "En la asignatura Física te sacaste 2.0\n",
      "En la asignatura Química te sacaste 3.0\n"
     ]
    }
   ],
   "source": [
    "asignaturas = ['Matematicas', 'Física', 'Química']\n",
    "notas = []\n",
    "\n",
    "for asignatura in asignaturas:\n",
    "    nota = float(input(f'Ingrese su nota en {asignatura} '))\n",
    "    notas.append(nota)\n",
    "\n",
    "for i in range(len(asignaturas)):\n",
    "    print(f'En la asignatura {asignaturas[i]} te sacaste {notas[i]}')"
   ]
  },
  {
   "cell_type": "markdown",
   "id": "dd72817d",
   "metadata": {},
   "source": [
    "4. Escribir un programa que pregunte al usuario los números ganadores de la lotería primitiva, los almacene en una lista y los muestre por pantalla ordenados de menor a mayor."
   ]
  },
  {
   "cell_type": "code",
   "execution_count": 4,
   "id": "625cb744",
   "metadata": {},
   "outputs": [
    {
     "name": "stdout",
     "output_type": "stream",
     "text": [
      "[2, 5, 13, 42, 123]\n"
     ]
    }
   ],
   "source": [
    "numeros = []\n",
    "\n",
    "for i in range (5):\n",
    "    numero = int(input (f'ingrese el numero {i+1} de la loteria'))\n",
    "    numeros.append(numero)\n",
    "\n",
    "numeros.sort()\n",
    "\n",
    "print (numeros)\n"
   ]
  },
  {
   "cell_type": "markdown",
   "id": "f47179e6",
   "metadata": {},
   "source": [
    "5. Escribir un programa que almacene en una lista los números del 1 al 10 y los muestre por pantalla en orden inverso separados por comas."
   ]
  },
  {
   "cell_type": "code",
   "execution_count": 8,
   "id": "e6bc38f3",
   "metadata": {},
   "outputs": [
    {
     "data": {
      "text/plain": [
       "[10, 9, 8, 7, 6, 5, 4, 3, 2, 1]"
      ]
     },
     "execution_count": 8,
     "metadata": {},
     "output_type": "execute_result"
    }
   ],
   "source": [
    "numeros = [] \n",
    "for i in range (10):\n",
    "    numeros.append(i+1)\n",
    "\n",
    "numeros.reverse()\n",
    "numeros"
   ]
  },
  {
   "cell_type": "markdown",
   "id": "4ca73a38",
   "metadata": {},
   "source": [
    "6. Escribir un programa que almacene las asignaturas de un curso (por ejemplo Matemáticas, Física, Química, Historia y Lengua) en una lista, pregunte al usuario la nota que ha sacado en cada asignatura y elimine de la lista las asignaturas aprobadas. Al final el programa debe mostrar por pantalla las asignaturas que el usuario tiene que repetir."
   ]
  },
  {
   "cell_type": "code",
   "execution_count": null,
   "id": "4bc0f050",
   "metadata": {},
   "outputs": [],
   "source": [
    "asignaturas = ['Matematicas', 'Física', 'Química']\n",
    "notas = []\n",
    "\n",
    "for asignatura in asignaturas:\n",
    "    nota = float(input(f'Ingrese su nota en {asignatura} '))\n",
    "    notas.append(nota)\n",
    "\n",
    "notas_des = []\n",
    "asignaturas_des = []\n",
    "\n",
    "for i in range(len(asignaturas)):\n",
    "    if notas[i]<4:\n",
    "        notas_des.append(notas[i])\n",
    "        asignaturas_des.append(asignaturas[i])\n",
    "\n",
    "print('Asignaturas a repetir')\n",
    "for i in range(len(asignaturas_des)):\n",
    "    print(f'{asignaturas_des[i]}')"
   ]
  },
  {
   "cell_type": "markdown",
   "id": "e422be26",
   "metadata": {},
   "source": [
    "7. Escribir un programa que almacene el abecedario en una lista, elimine de la lista las letras que ocupen posiciones múltiplos de 3, y muestre por pantalla la lista resultante."
   ]
  },
  {
   "cell_type": "code",
   "execution_count": 70,
   "id": "f99b3cab",
   "metadata": {},
   "outputs": [
    {
     "name": "stdout",
     "output_type": "stream",
     "text": [
      "['b', 'c', 'f', 'g', 'i', 'j']\n"
     ]
    }
   ],
   "source": [
    "abecedario = ['a','b','c','d','f','g','h','i','j']\n",
    "abe_limpio = []\n",
    "\n",
    "for i in range(len(abecedario)):\n",
    "    if i % 3 != 0:\n",
    "        abe_limpio.append(abecedario[i])\n",
    "\n",
    "\n",
    "print (abe_limpio)\n"
   ]
  },
  {
   "cell_type": "markdown",
   "id": "7b85561a",
   "metadata": {},
   "source": [
    "8. Escribir un programa que pida al usuario una palabra y muestre por pantalla si es un palíndromo."
   ]
  },
  {
   "cell_type": "code",
   "execution_count": 21,
   "id": "afaba32d",
   "metadata": {},
   "outputs": [
    {
     "name": "stdout",
     "output_type": "stream",
     "text": [
      "a s\n",
      "s a\n",
      "a s\n",
      "s a\n",
      "False\n"
     ]
    }
   ],
   "source": [
    "palabra = (input ('ingrese la palabra a revisar'))\n",
    "\n",
    "palindromo = True\n",
    "\n",
    "for i in range( len(palabra)):\n",
    "    print (palabra[i], palabra[-i-1])\n",
    "    if palabra[i] != palabra[-i-1]:\n",
    "        palindromo = False\n",
    "\n",
    "print(palindromo)\n",
    "\n"
   ]
  },
  {
   "cell_type": "markdown",
   "id": "9a53e8de",
   "metadata": {},
   "source": [
    "9. Escribir un programa que pida al usuario una palabra y muestre por pantalla el número de veces que contiene cada vocal."
   ]
  },
  {
   "cell_type": "code",
   "execution_count": 28,
   "id": "b1dfc2e7",
   "metadata": {},
   "outputs": [
    {
     "name": "stdout",
     "output_type": "stream",
     "text": [
      "a 1\n",
      "e 0\n",
      "i 0\n",
      "o 4\n",
      "u 0\n"
     ]
    }
   ],
   "source": [
    "vocales = ['a','e','i','o','u']\n",
    "palabra = (input ('ingrese la palabra a revisar'))\n",
    "repeticiones = [0,0,0,0,0]\n",
    "palabra.lower()\n",
    "\n",
    "for i in range(len(palabra)):\n",
    "    for j in range (len(vocales)):\n",
    "        if palabra[i] == vocales[j]:\n",
    "            repeticiones[j] = repeticiones[j] + 1\n",
    "\n",
    "for v, r in zip(vocales, repeticiones):\n",
    "    print(v, r)"
   ]
  },
  {
   "cell_type": "markdown",
   "id": "55cdccd9",
   "metadata": {},
   "source": [
    "10. Escribir un programa que almacene en una lista los siguientes precios, 50, 75, 46, 22, 80, 65, 8, y muestre por pantalla el menor y el mayor de los precios."
   ]
  },
  {
   "cell_type": "code",
   "execution_count": 72,
   "id": "9451e30c",
   "metadata": {},
   "outputs": [
    {
     "name": "stdout",
     "output_type": "stream",
     "text": [
      "max 8 min 80\n"
     ]
    }
   ],
   "source": [
    "numeros = [50, 75, 46, 22, 80, 65, 8]\n",
    "\n",
    "numeros.sort()\n",
    "\n",
    "print('max', numeros[0], 'min', numeros[len(numeros) - 1] )"
   ]
  },
  {
   "cell_type": "markdown",
   "id": "8032a13d",
   "metadata": {},
   "source": [
    "11. Escribir un programa que almacene los vectores (1,2,3) y (-1,0,2) en dos listas y muestre por pantalla su producto escalar."
   ]
  },
  {
   "cell_type": "code",
   "execution_count": 31,
   "id": "7f82d37a",
   "metadata": {},
   "outputs": [
    {
     "name": "stdout",
     "output_type": "stream",
     "text": [
      "5\n"
     ]
    }
   ],
   "source": [
    "vec1 = [1,2,3]\n",
    "vec2 = [-1,0,2]\n",
    "\n",
    "producto = 0\n",
    "\n",
    "for i in range(len(vec1)):\n",
    "    producto += vec1[i] * vec2[i]\n",
    "\n",
    "print(producto)"
   ]
  },
  {
   "cell_type": "markdown",
   "id": "350472f1",
   "metadata": {},
   "source": [
    "12. Escribir un programa que almacene las matrices\n",
    "$$ A =\\left(\\begin{array}{cc} \n",
    "1 & 2 & 3\\\\\n",
    "4 & 5 & 6\n",
    "\\end{array}\\right)\n",
    "B = \\left(\\begin{array}{cc} \n",
    "-1 & 0\\\\ \n",
    "0 & 1\\\\ \n",
    "1 & 1\n",
    "\\end{array}\\right)\n",
    "$$\n",
    "en una lista y muestre por pantalla su producto.\n",
    "Nota: Para representar matrices mediante listas usar listas anidadas, representando cada vector fila en una lista."
   ]
  },
  {
   "cell_type": "code",
   "execution_count": 33,
   "id": "8d318963",
   "metadata": {},
   "outputs": [
    {
     "name": "stdout",
     "output_type": "stream",
     "text": [
      "[[2, 5], [2, 11]]\n"
     ]
    }
   ],
   "source": [
    "A = [\n",
    "    [1, 2, 3],\n",
    "    [4, 5, 6],\n",
    "]\n",
    "B = [\n",
    "    [-1, 0],\n",
    "    [0, 1],\n",
    "    [1, 1],\n",
    "]\n",
    "C = [\n",
    "    [0, 0],\n",
    "    [0, 0],\n",
    "] \n",
    "\n",
    "for row in range(2): \n",
    "    for col in range(2):  \n",
    "        for elt in range(3): \n",
    "            C[row][col] += A[row][elt]* B[elt][col]\n",
    "        \n",
    "print(C)\n",
    "        "
   ]
  },
  {
   "cell_type": "markdown",
   "id": "d3871ff8",
   "metadata": {},
   "source": [
    "13. Escribir un programa que pregunte por una muestra de números, separados por comas, los guarde en una lista y muestre por pantalla su media y desviación típica."
   ]
  },
  {
   "cell_type": "code",
   "execution_count": 37,
   "id": "dc6681db",
   "metadata": {},
   "outputs": [
    {
     "name": "stdout",
     "output_type": "stream",
     "text": [
      "2.0 0.816496580927726\n"
     ]
    }
   ],
   "source": [
    "from math import sqrt\n",
    "numeros = input('Lista de numeros: ')\n",
    "numeros = [float(n) for n in numeros.split(',')]\n",
    "media = sum(numeros) / len(numeros)\n",
    "\n",
    "numerador = 0\n",
    "for n in numeros:\n",
    "    numerador += (n - media) ** 2\n",
    "\n",
    "desviacion = sqrt(numerador / len(numeros))\n",
    "print(media, desviacion)"
   ]
  },
  {
   "attachments": {},
   "cell_type": "markdown",
   "id": "27fa0945",
   "metadata": {},
   "source": [
    "# Ejercicios de Diccionarios\n",
    "\n",
    "1. Escribir un programa que guarde en una variable el diccionario `{'Euro':'€', 'Dollar':'$', 'Yen':'¥'}`, pregunte al usuario por una divisa y muestre su símbolo o un mensaje de aviso si la divisa no está en el diccionario.\n"
   ]
  },
  {
   "cell_type": "code",
   "execution_count": 42,
   "id": "c678584e",
   "metadata": {},
   "outputs": [
    {
     "data": {
      "text/plain": [
       "True"
      ]
     },
     "execution_count": 42,
     "metadata": {},
     "output_type": "execute_result"
    }
   ],
   "source": [
    "diccionario = {'Euro':'€', 'Dollar':'$', 'Yen':'¥'}\n",
    "input('Divisa: ') in diccionario\n"
   ]
  },
  {
   "cell_type": "markdown",
   "id": "92388727",
   "metadata": {},
   "source": [
    "\n",
    "\n",
    "2. Escribir un programa que guarde en un diccionario los precios de las frutas de la tabla, pregunte al usuario por una fruta, un número de kilos y muestre por pantalla el precio de ese número de kilos de fruta. Si la fruta no está en el diccionario debe mostrar un mensaje informando de ello.\n",
    "\n",
    "| Fruta | Precio |\n",
    "| --- | --- |\n",
    "| Plátano | 1.35 |\n",
    "| Manzana | 0.80 |\n",
    "| Pera | 0.85 |\n",
    "| Naranja | 0.70 |"
   ]
  },
  {
   "cell_type": "code",
   "execution_count": 43,
   "id": "9148e888",
   "metadata": {},
   "outputs": [
    {
     "name": "stdout",
     "output_type": "stream",
     "text": [
      "16.200000000000003\n"
     ]
    }
   ],
   "source": [
    "frutas = {\n",
    "    'banana': 1.35,\n",
    "    'manzana': 0.80,\n",
    "    'pera': 0.85,\n",
    "    'naranja': 0.70,\n",
    "}\n",
    "fruta = input('Ingrese una fruta: ')\n",
    "if fruta in frutas:\n",
    "    kilos = float(input('cuantos kilos: '))\n",
    "    precio = frutas[fruta] * kilos\n",
    "    print(precio)\n",
    "else:\n",
    "    print(f'{fruta} no se encuentra en frutas')\n"
   ]
  },
  {
   "cell_type": "markdown",
   "id": "6b9f8757",
   "metadata": {},
   "source": [
    "3. Escribir un programa que cree un diccionario vacío y lo vaya llenado con información sobre una persona (por ejemplo nombre, edad, sexo, teléfono, correo electrónico, etc.) que se le pida al usuario. Cada vez que se añada un nuevo dato debe imprimirse el contenido del diccionario."
   ]
  },
  {
   "cell_type": "code",
   "execution_count": 46,
   "id": "99fe80f2",
   "metadata": {},
   "outputs": [
    {
     "name": "stdout",
     "output_type": "stream",
     "text": [
      "{'nombre': 'as'}\n",
      "{'nombre': 'as', 'email': 'as'}\n",
      "{'nombre': 'as', 'email': 'as', 'sexo': 'as'}\n"
     ]
    }
   ],
   "source": [
    "persona = {}\n",
    "info = ('nombre', 'email', 'sexo')\n",
    "for f in info:\n",
    "    persona[f] = input(f)\n",
    "    print(persona)"
   ]
  },
  {
   "cell_type": "markdown",
   "id": "846125b8",
   "metadata": {},
   "source": [
    "4. Escribir un programa que gestione las facturas pendientes de cobro de una empresa. Las facturas se almacenarán en un diccionario donde la clave de cada factura será el número de factura y el valor el coste de la factura. El programa debe preguntar al usuario si quiere añadir una nueva factura, pagar una existente o terminar. Si desea añadir una nueva factura se preguntará por el número de factura y su coste y se añadirá al diccionario. Si se desea pagar una factura se preguntará por el número de factura y se eliminará del diccionario. Después de cada operación el programa debe mostrar por pantalla la cantidad cobrada hasta el momento y la cantidad pendiente de cobro."
   ]
  },
  {
   "cell_type": "code",
   "execution_count": 56,
   "metadata": {},
   "outputs": [
    {
     "name": "stdout",
     "output_type": "stream",
     "text": [
      "{}\n",
      "1. Nueva Factura\n",
      "2. Pagar Factura\n",
      "0. Salir\n",
      "suma total cobrada =:  0\n",
      "suma total pend =:  0\n"
     ]
    }
   ],
   "source": [
    "facturas = {}\n",
    "cobrada = 0\n",
    "pendiente = 0\n",
    "while True:\n",
    "    print(facturas)\n",
    "    print('1. Nueva Factura')\n",
    "    print('2. Pagar Factura')\n",
    "    print('0. Salir')\n",
    "\n",
    "    print('suma total cobrada =: ', cobrada)\n",
    "    print('suma total pend =: ', pendiente)\n",
    "\n",
    "    opt = int(input('> '))\n",
    "    if opt == 1:\n",
    "        num = int(input('Número de factura: '))\n",
    "        if num in facturas:\n",
    "            print('nro de factura ya implementado')\n",
    "        else:\n",
    "            coste = float(input('Coste: '))\n",
    "            facturas[num] = coste\n",
    "            pendiente += coste\n",
    "    elif opt == 2:\n",
    "        num = int(input('Número de factura: '))\n",
    "        if num in facturas:\n",
    "            cobrada += facturas[num]\n",
    "            pendiente -= facturas[num]\n",
    "            del facturas[num]\n",
    "            \n",
    "    else:\n",
    "        break"
   ]
  },
  {
   "cell_type": "markdown",
   "id": "375ac7fc",
   "metadata": {},
   "source": [
    "5. El directorio de los clientes de una empresa está organizado en una cadena de texto como la de más abajo, donde cada línea contiene la información del nombre, email, teléfono, nif, y el descuento que se le aplica. Las líneas se separan con el carácter de cambio de línea \\n y la primera línea contiene los nombres de los campos con la información contenida en el directorio.\n",
    "\n",
    "`\"nif;nombre;email;teléfono;descuento\\n01234567L;Luis González;luisgonzalez@mail.com;656343576;12.5\\n71476342J;Macarena Ramírez;macarena@mail.com;692839321;8\\n63823376M;Juan José Martínez;juanjo@mail.com;664888233;5.2\\n98376547F;Carmen Sánchez;carmen@mail.com;667677855;15.7\"`\n",
    "\n",
    "Escribir un programa que genere un diccionario con la información del directorio, donde cada elemento corresponda a un cliente y tenga por clave su nif y por valor otro diccionario con el resto de la información del cliente. Los diccionarios con la información de cada cliente tendrán como claves los nombres de los campos y como valores la información de cada cliente correspondientes a los campos. Es decir, un diccionario como el siguiente\n",
    "\n",
    "`{'01234567L': {'nombre': 'Luis González', 'email': 'luisgonzalez@mail.com', 'teléfono': '656343576', 'descuento': 12.5}, '71476342J': {'nombre': 'Macarena Ramírez', 'email': 'macarena@mail.com', 'teléfono': '692839321', 'descuento': 8.0}, '63823376M': {'nombre': 'Juan José Martínez', 'email': 'juanjo@mail.com', 'teléfono': '664888233', 'descuento': 5.2}, '98376547F': {'nombre': 'Carmen Sánchez', 'email': 'carmen@mail.com', 'teléfono': '667677855', 'descuento': 15.7}}`"
   ]
  },
  {
   "cell_type": "code",
   "execution_count": 58,
   "id": "76547a5a",
   "metadata": {},
   "outputs": [
    {
     "name": "stdout",
     "output_type": "stream",
     "text": [
      "{'01234567L': {'nombre': 'Luis González', 'email': 'luisgonzalez@mail.com', 'teléfono': '656343576', 'descuento': '12.5'}, '71476342J': {'nombre': 'Macarena Ramírez', 'email': 'macarena@mail.com', 'teléfono': '692839321', 'descuento': '8'}, '63823376M': {'nombre': 'Juan José Martínez', 'email': 'juanjo@mail.com', 'teléfono': '664888233', 'descuento': '5.2'}, '98376547F': {'nombre': 'Carmen Sánchez', 'email': 'carmen@mail.com', 'teléfono': '667677855', 'descuento': '15.7'}}\n"
     ]
    }
   ],
   "source": [
    "csv = \"nif;nombre;email;teléfono;descuento\\n01234567L;Luis González;luisgonzalez@mail.com;656343576;12.5\\n71476342J;Macarena Ramírez;macarena@mail.com;692839321;8\\n63823376M;Juan José Martínez;juanjo@mail.com;664888233;5.2\\n98376547F;Carmen Sánchez;carmen@mail.com;667677855;15.7\"\n",
    "rows = csv.split('\\n')\n",
    "header = rows[0].split(';')\n",
    "d = {}\n",
    "for row in rows[1:]:\n",
    "    nif = None\n",
    "    for j, col in enumerate(row.split(';')):\n",
    "        if j == 0:\n",
    "            nif = col\n",
    "            d[nif] = {}\n",
    "            continue\n",
    "        d[nif][header[j]] = col\n",
    "print (d)"
   ]
  },
  {
   "cell_type": "markdown",
   "id": "63e74656",
   "metadata": {},
   "source": [
    "# Ejercicios de Funciones\n",
    "1. Escribir una función a la que se le pase una cadena `<nombre>` y muestre por pantalla el saludo ¡hola `<nombre>`!."
   ]
  },
  {
   "cell_type": "code",
   "execution_count": 61,
   "id": "2dd2c638",
   "metadata": {},
   "outputs": [
    {
     "name": "stdout",
     "output_type": "stream",
     "text": [
      "Hola juan!\n"
     ]
    }
   ],
   "source": [
    "def holanombre(nombre):\n",
    "    print(f'Hola {nombre}!')\n",
    "\n",
    "holanombre('juan')"
   ]
  },
  {
   "cell_type": "markdown",
   "id": "722b0a26",
   "metadata": {},
   "source": [
    "2. Escribir una función que reciba un número entero positivo y devuelva su factorial."
   ]
  },
  {
   "cell_type": "code",
   "execution_count": 71,
   "id": "4267cf24",
   "metadata": {},
   "outputs": [
    {
     "data": {
      "text/plain": [
       "720"
      ]
     },
     "execution_count": 71,
     "metadata": {},
     "output_type": "execute_result"
    }
   ],
   "source": [
    "def factorial (num:int):\n",
    "    if num <= 0:\n",
    "        return 1\n",
    "    return num * factorial(num - 1)\n",
    "\n",
    "factorial(6)"
   ]
  },
  {
   "cell_type": "markdown",
   "id": "47d396f8",
   "metadata": {},
   "source": [
    "3. Escribir una función que calcule el total de una factura tras aplicarle el IVA. La función debe recibir la cantidad sin IVA y el porcentaje de IVA a aplicar, y devolver el total de la factura. Si se invoca la función sin pasarle el porcentaje de IVA, deberá aplicar un 21%."
   ]
  },
  {
   "cell_type": "code",
   "execution_count": 76,
   "id": "5b1d3403",
   "metadata": {},
   "outputs": [
    {
     "data": {
      "text/plain": [
       "132.0"
      ]
     },
     "execution_count": 76,
     "metadata": {},
     "output_type": "execute_result"
    }
   ],
   "source": [
    "def iva (cantidad:float, porcentaje:float = 0.21):\n",
    "        return cantidad + cantidad*porcentaje\n",
    "\n",
    "iva(100, 0.32)"
   ]
  },
  {
   "cell_type": "markdown",
   "id": "2adda5aa",
   "metadata": {},
   "source": [
    "4. Escribir una función que calcule el área de un círculo y otra que calcule el volumen de un cilindro usando la primera función."
   ]
  },
  {
   "cell_type": "code",
   "execution_count": 82,
   "id": "1ea2788a",
   "metadata": {},
   "outputs": [
    {
     "data": {
      "text/plain": [
       "25.12"
      ]
     },
     "execution_count": 82,
     "metadata": {},
     "output_type": "execute_result"
    }
   ],
   "source": [
    "def circle_area (radio:float):\n",
    "    return 3.14 * radio ** 2\n",
    "\n",
    "def cilinder_volume (radio:float, length:float):\n",
    "    return circle_area(radio)*length\n",
    "\n",
    "cilinder_volume(2,2)"
   ]
  },
  {
   "cell_type": "markdown",
   "id": "8399cb23",
   "metadata": {},
   "source": [
    "5. Escribir una función que reciba una muestra de números en una lista y devuelva su media."
   ]
  },
  {
   "cell_type": "code",
   "execution_count": 84,
   "id": "cf3fa76b",
   "metadata": {},
   "outputs": [
    {
     "data": {
      "text/plain": [
       "3.5"
      ]
     },
     "execution_count": 84,
     "metadata": {},
     "output_type": "execute_result"
    }
   ],
   "source": [
    "def media (numeros:list):\n",
    "    suma = 0\n",
    "    for num in numeros:\n",
    "        suma += num\n",
    "    \n",
    "    return suma/len(numeros)\n",
    "\n",
    "#     return sum(nums) / len(nums)\n",
    "\n",
    "media([1, 2, 3, 4, 5, 6])\n"
   ]
  },
  {
   "cell_type": "markdown",
   "id": "0549988a",
   "metadata": {},
   "source": [
    "6. Escribir una función que reciba una muestra de números en una lista y devuelva otra lista con sus cuadrados."
   ]
  },
  {
   "cell_type": "code",
   "execution_count": 90,
   "id": "296a235c",
   "metadata": {},
   "outputs": [
    {
     "data": {
      "text/plain": [
       "[0, 1, 4, 9, 16, 25, 36, 49, 64, 81]"
      ]
     },
     "execution_count": 90,
     "metadata": {},
     "output_type": "execute_result"
    }
   ],
   "source": [
    "def media (numeros:list):\n",
    "    return [n ** 2 for n in numeros]\n",
    "\n",
    "    \n",
    "\n",
    "media([i for i in range(10)])"
   ]
  },
  {
   "cell_type": "markdown",
   "id": "957f415a",
   "metadata": {},
   "source": [
    "7. Escribir una función que reciba una muestra de números en una lista y devuelva un diccionario con su media, varianza y desviación típica."
   ]
  },
  {
   "cell_type": "code",
   "execution_count": 1,
   "id": "7d18dd65",
   "metadata": {},
   "outputs": [
    {
     "data": {
      "text/plain": [
       "{'media': 4.5, 'varianza': 5.25, 'desv_tipica': 2.29128784747792}"
      ]
     },
     "execution_count": 1,
     "metadata": {},
     "output_type": "execute_result"
    }
   ],
   "source": [
    "def mvd_numeros (listanum:list):\n",
    "    media = sum(listanum) / len(listanum)\n",
    "    varianza = sum((x - media)**2 for x in listanum) / len(listanum)\n",
    "    desv_tipica = varianza**0.5\n",
    "    return {'media': media, 'varianza': varianza, 'desv_tipica': desv_tipica}\n",
    "\n",
    "mvd_numeros([1,2,3,4,5,6,7,8])"
   ]
  },
  {
   "cell_type": "markdown",
   "id": "a398d9f2",
   "metadata": {},
   "source": [
    "8. Escribir una función que calcule el máximo común divisor de dos números y otra que calcule el mínimo común múltiplo."
   ]
  },
  {
   "cell_type": "code",
   "execution_count": 9,
   "id": "5d4145e8",
   "metadata": {},
   "outputs": [
    {
     "name": "stdout",
     "output_type": "stream",
     "text": [
      "2\n",
      "90.0\n"
     ]
    }
   ],
   "source": [
    "def mcd(a, b):\n",
    "    while b:\n",
    "        a, b = b, a % b\n",
    "    return a\n",
    "\n",
    "def mcm(a, b):\n",
    "    return (a * b) / mcd(a, b)\n",
    "\n",
    "print (mcd(8,10))\n",
    "\n",
    "print (mcm(10,90))"
   ]
  },
  {
   "cell_type": "markdown",
   "id": "dd92251a",
   "metadata": {},
   "source": [
    "9. Escribir una función que convierta un número decimal en binario y otra que convierta un número binario en decimal."
   ]
  },
  {
   "cell_type": "code",
   "execution_count": 13,
   "id": "65361ad8",
   "metadata": {},
   "outputs": [
    {
     "name": "stdout",
     "output_type": "stream",
     "text": [
      "1010010\n",
      "341\n"
     ]
    }
   ],
   "source": [
    "def binarioconv(num):\n",
    "    binario = ''\n",
    "    while num > 0:\n",
    "        binario = str(num % 2) + binario\n",
    "        num //= 2\n",
    "    return binario\n",
    "\n",
    "def decimalconv(binario):\n",
    "    decimal = 0\n",
    "    potencia = 0\n",
    "    while binario > 0:\n",
    "        resto = binario % 10\n",
    "        decimal += resto * (2 ** potencia)\n",
    "        binario //= 10\n",
    "        potencia += 1\n",
    "    return decimal\n",
    "\n",
    "\n",
    "print (binarioconv(82))\n",
    "\n",
    "print (decimalconv(101010101))"
   ]
  },
  {
   "cell_type": "markdown",
   "id": "31f0a4da",
   "metadata": {},
   "source": [
    "10. Escribir un programa que reciba una cadena de caracteres y devuelva un diccionario con cada palabra que contiene y su frecuencia. Escribir otra función que reciba el diccionario generado con la función anterior y devuelva una tupla con la palabra más repetida y su frecuencia."
   ]
  },
  {
   "cell_type": "code",
   "execution_count": 15,
   "id": "01eb5cd3",
   "metadata": {},
   "outputs": [
    {
     "name": "stdout",
     "output_type": "stream",
     "text": [
      "{'hola': 4, 'soy': 1, 'el': 1}\n",
      "La palabra más repetida es 'hola' con una frecuencia de 4.\n"
     ]
    }
   ],
   "source": [
    "def contar_palabras(cadena):\n",
    "    cadena = cadena.lower()\n",
    "    palabras = cadena.split()\n",
    "\n",
    "    frecuencia = {}\n",
    "\n",
    "    for palabra in palabras:\n",
    "        if palabra in frecuencia:\n",
    "            frecuencia[palabra] += 1\n",
    "        else:\n",
    "            frecuencia[palabra] = 1\n",
    "    return frecuencia\n",
    "\n",
    "def palabra_mas_repetida(diccionario):\n",
    "\n",
    "    palabra = max(diccionario, key=diccionario.get)\n",
    "    frecuencia = diccionario[palabra]\n",
    "    return (palabra, frecuencia)\n",
    "\n",
    "cadena = input ('Ingrese la cadena a analizar: ')\n",
    "diccionario = contar_palabras(cadena)\n",
    "print(diccionario)\n",
    "palabra, frecuencia = palabra_mas_repetida(diccionario)\n",
    "print(\"La palabra más repetida es '{}' con una frecuencia de {}.\".format(palabra, frecuencia))\n"
   ]
  }
 ],
 "metadata": {
  "kernelspec": {
   "display_name": "Python 3 (ipykernel)",
   "language": "python",
   "name": "python3"
  },
  "language_info": {
   "codemirror_mode": {
    "name": "ipython",
    "version": 3
   },
   "file_extension": ".py",
   "mimetype": "text/x-python",
   "name": "python",
   "nbconvert_exporter": "python",
   "pygments_lexer": "ipython3",
   "version": "3.9.6"
  }
 },
 "nbformat": 4,
 "nbformat_minor": 5
}
