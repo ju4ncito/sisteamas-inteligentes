{
 "cells": [
  {
   "cell_type": "markdown",
   "id": "08d81568",
   "metadata": {},
   "source": [
    "# 1er TP de sistemas inteligentes\n",
    "\n",
    "Nombre:\n",
    "\n",
    "Este trabajo práctico se aprueba completando más del 70% del mismo. Una vez completado el notebook y reenvielo al email 2329034@ucc.edu.ar. Importante: Asegurese que su correo haya llegado."
   ]
  },
  {
   "attachments": {},
   "cell_type": "markdown",
   "id": "327c0583",
   "metadata": {},
   "source": [
    "### Entender el problema\n",
    "\n",
    "El hundimiento del Titanic es uno de los naufragios más infames de la historia. El 15 de abril de 1912, durante su viaje inaugural, el RMS Titanic, considerado ampliamente \"insumergible\", se hundió después de chocar con un iceberg. Desafortunadamente, no había suficientes botes salvavidas para todos a bordo, lo que resultó en la muerte de 1502 de los 2224 pasajeros y tripulantes.\n",
    "\n",
    "\n",
    "Si bien hubo cierto elemento de suerte en sobrevivir, parece que algunos grupos de personas tenían más probabilidades de sobrevivir que otros.\n",
    "\n",
    "Siendo la clase positiva la indicación qué la persona sobrevive ¿Qué le estaría pidiendo a mi clasificador qué tenga en cuenta si le pido un puntaje de recall alto?"
   ]
  },
  {
   "attachments": {},
   "cell_type": "markdown",
   "id": "af296a38",
   "metadata": {},
   "source": [
    "### rta\n",
    "Le estariamos pidiendo al clasificador que al tener un recall alto, evite que la mayor cantidad de personas que sobrevivieron sean clasificados como no sobrevivientes (menos falsos negativos)\n"
   ]
  },
  {
   "cell_type": "code",
   "execution_count": null,
   "id": "5490c397",
   "metadata": {},
   "outputs": [],
   "source": []
  },
  {
   "cell_type": "markdown",
   "id": "2dbe88e8",
   "metadata": {},
   "source": [
    "<10%>\n",
    "Respuesta:"
   ]
  },
  {
   "cell_type": "markdown",
   "id": "2cce0937",
   "metadata": {},
   "source": [
    "### Obtención de datos\n",
    "Importe las librerías a utilizar:"
   ]
  },
  {
   "cell_type": "code",
   "execution_count": 390,
   "id": "09c7afae",
   "metadata": {},
   "outputs": [],
   "source": [
    "import pandas as pd\n",
    "import matplotlib.pyplot as plt \n",
    "import numpy as np"
   ]
  },
  {
   "cell_type": "markdown",
   "id": "8904aa72",
   "metadata": {},
   "source": [
    "Importe los datos:"
   ]
  },
  {
   "cell_type": "code",
   "execution_count": 391,
   "id": "0910c962",
   "metadata": {},
   "outputs": [
    {
     "data": {
      "text/html": [
       "<div>\n",
       "<style scoped>\n",
       "    .dataframe tbody tr th:only-of-type {\n",
       "        vertical-align: middle;\n",
       "    }\n",
       "\n",
       "    .dataframe tbody tr th {\n",
       "        vertical-align: top;\n",
       "    }\n",
       "\n",
       "    .dataframe thead th {\n",
       "        text-align: right;\n",
       "    }\n",
       "</style>\n",
       "<table border=\"1\" class=\"dataframe\">\n",
       "  <thead>\n",
       "    <tr style=\"text-align: right;\">\n",
       "      <th></th>\n",
       "      <th>PassengerId</th>\n",
       "      <th>Survived</th>\n",
       "      <th>Pclass</th>\n",
       "      <th>Name</th>\n",
       "      <th>Sex</th>\n",
       "      <th>Age</th>\n",
       "      <th>SibSp</th>\n",
       "      <th>Parch</th>\n",
       "      <th>Ticket</th>\n",
       "      <th>Fare</th>\n",
       "      <th>Cabin</th>\n",
       "      <th>Embarked</th>\n",
       "    </tr>\n",
       "  </thead>\n",
       "  <tbody>\n",
       "    <tr>\n",
       "      <th>0</th>\n",
       "      <td>1</td>\n",
       "      <td>0</td>\n",
       "      <td>3</td>\n",
       "      <td>Braund, Mr. Owen Harris</td>\n",
       "      <td>male</td>\n",
       "      <td>22.0</td>\n",
       "      <td>1</td>\n",
       "      <td>0</td>\n",
       "      <td>A/5 21171</td>\n",
       "      <td>7.2500</td>\n",
       "      <td>NaN</td>\n",
       "      <td>S</td>\n",
       "    </tr>\n",
       "    <tr>\n",
       "      <th>1</th>\n",
       "      <td>2</td>\n",
       "      <td>1</td>\n",
       "      <td>1</td>\n",
       "      <td>Cumings, Mrs. John Bradley (Florence Briggs Th...</td>\n",
       "      <td>female</td>\n",
       "      <td>38.0</td>\n",
       "      <td>1</td>\n",
       "      <td>0</td>\n",
       "      <td>PC 17599</td>\n",
       "      <td>71.2833</td>\n",
       "      <td>C85</td>\n",
       "      <td>C</td>\n",
       "    </tr>\n",
       "    <tr>\n",
       "      <th>2</th>\n",
       "      <td>3</td>\n",
       "      <td>1</td>\n",
       "      <td>3</td>\n",
       "      <td>Heikkinen, Miss. Laina</td>\n",
       "      <td>female</td>\n",
       "      <td>26.0</td>\n",
       "      <td>0</td>\n",
       "      <td>0</td>\n",
       "      <td>STON/O2. 3101282</td>\n",
       "      <td>7.9250</td>\n",
       "      <td>NaN</td>\n",
       "      <td>S</td>\n",
       "    </tr>\n",
       "    <tr>\n",
       "      <th>3</th>\n",
       "      <td>4</td>\n",
       "      <td>1</td>\n",
       "      <td>1</td>\n",
       "      <td>Futrelle, Mrs. Jacques Heath (Lily May Peel)</td>\n",
       "      <td>female</td>\n",
       "      <td>35.0</td>\n",
       "      <td>1</td>\n",
       "      <td>0</td>\n",
       "      <td>113803</td>\n",
       "      <td>53.1000</td>\n",
       "      <td>C123</td>\n",
       "      <td>S</td>\n",
       "    </tr>\n",
       "    <tr>\n",
       "      <th>4</th>\n",
       "      <td>5</td>\n",
       "      <td>0</td>\n",
       "      <td>3</td>\n",
       "      <td>Allen, Mr. William Henry</td>\n",
       "      <td>male</td>\n",
       "      <td>35.0</td>\n",
       "      <td>0</td>\n",
       "      <td>0</td>\n",
       "      <td>373450</td>\n",
       "      <td>8.0500</td>\n",
       "      <td>NaN</td>\n",
       "      <td>S</td>\n",
       "    </tr>\n",
       "  </tbody>\n",
       "</table>\n",
       "</div>"
      ],
      "text/plain": [
       "   PassengerId  Survived  Pclass  \\\n",
       "0            1         0       3   \n",
       "1            2         1       1   \n",
       "2            3         1       3   \n",
       "3            4         1       1   \n",
       "4            5         0       3   \n",
       "\n",
       "                                                Name     Sex   Age  SibSp  \\\n",
       "0                            Braund, Mr. Owen Harris    male  22.0      1   \n",
       "1  Cumings, Mrs. John Bradley (Florence Briggs Th...  female  38.0      1   \n",
       "2                             Heikkinen, Miss. Laina  female  26.0      0   \n",
       "3       Futrelle, Mrs. Jacques Heath (Lily May Peel)  female  35.0      1   \n",
       "4                           Allen, Mr. William Henry    male  35.0      0   \n",
       "\n",
       "   Parch            Ticket     Fare Cabin Embarked  \n",
       "0      0         A/5 21171   7.2500   NaN        S  \n",
       "1      0          PC 17599  71.2833   C85        C  \n",
       "2      0  STON/O2. 3101282   7.9250   NaN        S  \n",
       "3      0            113803  53.1000  C123        S  \n",
       "4      0            373450   8.0500   NaN        S  "
      ]
     },
     "execution_count": 391,
     "metadata": {},
     "output_type": "execute_result"
    }
   ],
   "source": [
    "url = \"https://gitlab.com/francisco.arduh/datasets/-/raw/main/Titanic-Dataset.csv\"\n",
    "df = pd.read_csv(url)\n",
    "\n",
    "df.head()\n",
    "\n",
    "# Observamos las primeras 5 tuplas"
   ]
  },
  {
   "cell_type": "markdown",
   "id": "ed9ec84a",
   "metadata": {},
   "source": [
    "<10%> Realice una exploración de los datos, compruebe si existe faltante de datos en alguna columna, que tipo de distribución tienen los datos, si alguna columna tiene muchos datos únicos."
   ]
  },
  {
   "cell_type": "code",
   "execution_count": 392,
   "id": "7b115e26",
   "metadata": {},
   "outputs": [
    {
     "data": {
      "text/html": [
       "<div>\n",
       "<style scoped>\n",
       "    .dataframe tbody tr th:only-of-type {\n",
       "        vertical-align: middle;\n",
       "    }\n",
       "\n",
       "    .dataframe tbody tr th {\n",
       "        vertical-align: top;\n",
       "    }\n",
       "\n",
       "    .dataframe thead th {\n",
       "        text-align: right;\n",
       "    }\n",
       "</style>\n",
       "<table border=\"1\" class=\"dataframe\">\n",
       "  <thead>\n",
       "    <tr style=\"text-align: right;\">\n",
       "      <th></th>\n",
       "      <th>PassengerId</th>\n",
       "      <th>Survived</th>\n",
       "      <th>Pclass</th>\n",
       "      <th>Age</th>\n",
       "      <th>SibSp</th>\n",
       "      <th>Parch</th>\n",
       "      <th>Fare</th>\n",
       "    </tr>\n",
       "  </thead>\n",
       "  <tbody>\n",
       "    <tr>\n",
       "      <th>count</th>\n",
       "      <td>891.000000</td>\n",
       "      <td>891.000000</td>\n",
       "      <td>891.000000</td>\n",
       "      <td>714.000000</td>\n",
       "      <td>891.000000</td>\n",
       "      <td>891.000000</td>\n",
       "      <td>891.000000</td>\n",
       "    </tr>\n",
       "    <tr>\n",
       "      <th>mean</th>\n",
       "      <td>446.000000</td>\n",
       "      <td>0.383838</td>\n",
       "      <td>2.308642</td>\n",
       "      <td>29.699118</td>\n",
       "      <td>0.523008</td>\n",
       "      <td>0.381594</td>\n",
       "      <td>32.204208</td>\n",
       "    </tr>\n",
       "    <tr>\n",
       "      <th>std</th>\n",
       "      <td>257.353842</td>\n",
       "      <td>0.486592</td>\n",
       "      <td>0.836071</td>\n",
       "      <td>14.526497</td>\n",
       "      <td>1.102743</td>\n",
       "      <td>0.806057</td>\n",
       "      <td>49.693429</td>\n",
       "    </tr>\n",
       "    <tr>\n",
       "      <th>min</th>\n",
       "      <td>1.000000</td>\n",
       "      <td>0.000000</td>\n",
       "      <td>1.000000</td>\n",
       "      <td>0.420000</td>\n",
       "      <td>0.000000</td>\n",
       "      <td>0.000000</td>\n",
       "      <td>0.000000</td>\n",
       "    </tr>\n",
       "    <tr>\n",
       "      <th>25%</th>\n",
       "      <td>223.500000</td>\n",
       "      <td>0.000000</td>\n",
       "      <td>2.000000</td>\n",
       "      <td>20.125000</td>\n",
       "      <td>0.000000</td>\n",
       "      <td>0.000000</td>\n",
       "      <td>7.910400</td>\n",
       "    </tr>\n",
       "    <tr>\n",
       "      <th>50%</th>\n",
       "      <td>446.000000</td>\n",
       "      <td>0.000000</td>\n",
       "      <td>3.000000</td>\n",
       "      <td>28.000000</td>\n",
       "      <td>0.000000</td>\n",
       "      <td>0.000000</td>\n",
       "      <td>14.454200</td>\n",
       "    </tr>\n",
       "    <tr>\n",
       "      <th>75%</th>\n",
       "      <td>668.500000</td>\n",
       "      <td>1.000000</td>\n",
       "      <td>3.000000</td>\n",
       "      <td>38.000000</td>\n",
       "      <td>1.000000</td>\n",
       "      <td>0.000000</td>\n",
       "      <td>31.000000</td>\n",
       "    </tr>\n",
       "    <tr>\n",
       "      <th>max</th>\n",
       "      <td>891.000000</td>\n",
       "      <td>1.000000</td>\n",
       "      <td>3.000000</td>\n",
       "      <td>80.000000</td>\n",
       "      <td>8.000000</td>\n",
       "      <td>6.000000</td>\n",
       "      <td>512.329200</td>\n",
       "    </tr>\n",
       "  </tbody>\n",
       "</table>\n",
       "</div>"
      ],
      "text/plain": [
       "       PassengerId    Survived      Pclass         Age       SibSp  \\\n",
       "count   891.000000  891.000000  891.000000  714.000000  891.000000   \n",
       "mean    446.000000    0.383838    2.308642   29.699118    0.523008   \n",
       "std     257.353842    0.486592    0.836071   14.526497    1.102743   \n",
       "min       1.000000    0.000000    1.000000    0.420000    0.000000   \n",
       "25%     223.500000    0.000000    2.000000   20.125000    0.000000   \n",
       "50%     446.000000    0.000000    3.000000   28.000000    0.000000   \n",
       "75%     668.500000    1.000000    3.000000   38.000000    1.000000   \n",
       "max     891.000000    1.000000    3.000000   80.000000    8.000000   \n",
       "\n",
       "            Parch        Fare  \n",
       "count  891.000000  891.000000  \n",
       "mean     0.381594   32.204208  \n",
       "std      0.806057   49.693429  \n",
       "min      0.000000    0.000000  \n",
       "25%      0.000000    7.910400  \n",
       "50%      0.000000   14.454200  \n",
       "75%      0.000000   31.000000  \n",
       "max      6.000000  512.329200  "
      ]
     },
     "execution_count": 392,
     "metadata": {},
     "output_type": "execute_result"
    }
   ],
   "source": [
    "df.describe()\n",
    "\n",
    "# Observo los valores maximos y minimos para conocer los rangos en los que voy a trabajar"
   ]
  },
  {
   "cell_type": "code",
   "execution_count": 393,
   "id": "136c93db",
   "metadata": {},
   "outputs": [
    {
     "name": "stdout",
     "output_type": "stream",
     "text": [
      "<class 'pandas.core.frame.DataFrame'>\n",
      "RangeIndex: 891 entries, 0 to 890\n",
      "Data columns (total 12 columns):\n",
      " #   Column       Non-Null Count  Dtype  \n",
      "---  ------       --------------  -----  \n",
      " 0   PassengerId  891 non-null    int64  \n",
      " 1   Survived     891 non-null    int64  \n",
      " 2   Pclass       891 non-null    int64  \n",
      " 3   Name         891 non-null    object \n",
      " 4   Sex          891 non-null    object \n",
      " 5   Age          714 non-null    float64\n",
      " 6   SibSp        891 non-null    int64  \n",
      " 7   Parch        891 non-null    int64  \n",
      " 8   Ticket       891 non-null    object \n",
      " 9   Fare         891 non-null    float64\n",
      " 10  Cabin        204 non-null    object \n",
      " 11  Embarked     889 non-null    object \n",
      "dtypes: float64(2), int64(5), object(5)\n",
      "memory usage: 83.7+ KB\n"
     ]
    }
   ],
   "source": [
    "df.info()\n",
    "\n",
    "# Observamos que tenemos valores nulos en Cabin, Age y 2 valores nulos en Embarked.\n",
    "# Vemos tambien el tipo de datos de cada columna "
   ]
  },
  {
   "cell_type": "code",
   "execution_count": 394,
   "id": "a8ce7233",
   "metadata": {},
   "outputs": [
    {
     "data": {
      "text/plain": [
       "PassengerId    891\n",
       "Survived         2\n",
       "Pclass           3\n",
       "Name           891\n",
       "Sex              2\n",
       "Age             88\n",
       "SibSp            7\n",
       "Parch            7\n",
       "Ticket         681\n",
       "Fare           248\n",
       "Cabin          147\n",
       "Embarked         3\n",
       "dtype: int64"
      ]
     },
     "execution_count": 394,
     "metadata": {},
     "output_type": "execute_result"
    }
   ],
   "source": [
    "df.nunique()\n",
    "\n",
    "# Observamos la distribucion de datos unicos, \n",
    "# vemos que la columna que nos informa la supervivencia es binaria (0 a 1)\n",
    "# definimos entonces nuestro X e y de la siguiente forma:"
   ]
  },
  {
   "cell_type": "markdown",
   "id": "857e6fb9",
   "metadata": {},
   "source": [
    "<5%> Separar X_train, y_train, X_test, y_test"
   ]
  },
  {
   "cell_type": "code",
   "execution_count": 395,
   "id": "67591b40",
   "metadata": {},
   "outputs": [],
   "source": [
    "from sklearn.model_selection import train_test_split\n",
    "\n",
    "X = df.drop(\"Survived\", axis=1)\n",
    "y = df[\"Survived\"]\n",
    "\n",
    "y_train, y_test = train_test_split(y, test_size=0.2, random_state=42)\n",
    "X_train, X_test = train_test_split(X, test_size=0.2, random_state=42)"
   ]
  },
  {
   "cell_type": "code",
   "execution_count": 396,
   "id": "65f89693",
   "metadata": {},
   "outputs": [
    {
     "data": {
      "text/html": [
       "<div>\n",
       "<style scoped>\n",
       "    .dataframe tbody tr th:only-of-type {\n",
       "        vertical-align: middle;\n",
       "    }\n",
       "\n",
       "    .dataframe tbody tr th {\n",
       "        vertical-align: top;\n",
       "    }\n",
       "\n",
       "    .dataframe thead th {\n",
       "        text-align: right;\n",
       "    }\n",
       "</style>\n",
       "<table border=\"1\" class=\"dataframe\">\n",
       "  <thead>\n",
       "    <tr style=\"text-align: right;\">\n",
       "      <th></th>\n",
       "      <th>PassengerId</th>\n",
       "      <th>Pclass</th>\n",
       "      <th>Name</th>\n",
       "      <th>Sex</th>\n",
       "      <th>Age</th>\n",
       "      <th>SibSp</th>\n",
       "      <th>Parch</th>\n",
       "      <th>Ticket</th>\n",
       "      <th>Fare</th>\n",
       "      <th>Cabin</th>\n",
       "      <th>Embarked</th>\n",
       "    </tr>\n",
       "  </thead>\n",
       "  <tbody>\n",
       "    <tr>\n",
       "      <th>331</th>\n",
       "      <td>332</td>\n",
       "      <td>1</td>\n",
       "      <td>Partner, Mr. Austen</td>\n",
       "      <td>male</td>\n",
       "      <td>45.5</td>\n",
       "      <td>0</td>\n",
       "      <td>0</td>\n",
       "      <td>113043</td>\n",
       "      <td>28.5000</td>\n",
       "      <td>C124</td>\n",
       "      <td>S</td>\n",
       "    </tr>\n",
       "    <tr>\n",
       "      <th>733</th>\n",
       "      <td>734</td>\n",
       "      <td>2</td>\n",
       "      <td>Berriman, Mr. William John</td>\n",
       "      <td>male</td>\n",
       "      <td>23.0</td>\n",
       "      <td>0</td>\n",
       "      <td>0</td>\n",
       "      <td>28425</td>\n",
       "      <td>13.0000</td>\n",
       "      <td>NaN</td>\n",
       "      <td>S</td>\n",
       "    </tr>\n",
       "    <tr>\n",
       "      <th>382</th>\n",
       "      <td>383</td>\n",
       "      <td>3</td>\n",
       "      <td>Tikkanen, Mr. Juho</td>\n",
       "      <td>male</td>\n",
       "      <td>32.0</td>\n",
       "      <td>0</td>\n",
       "      <td>0</td>\n",
       "      <td>STON/O 2. 3101293</td>\n",
       "      <td>7.9250</td>\n",
       "      <td>NaN</td>\n",
       "      <td>S</td>\n",
       "    </tr>\n",
       "    <tr>\n",
       "      <th>704</th>\n",
       "      <td>705</td>\n",
       "      <td>3</td>\n",
       "      <td>Hansen, Mr. Henrik Juul</td>\n",
       "      <td>male</td>\n",
       "      <td>26.0</td>\n",
       "      <td>1</td>\n",
       "      <td>0</td>\n",
       "      <td>350025</td>\n",
       "      <td>7.8542</td>\n",
       "      <td>NaN</td>\n",
       "      <td>S</td>\n",
       "    </tr>\n",
       "    <tr>\n",
       "      <th>813</th>\n",
       "      <td>814</td>\n",
       "      <td>3</td>\n",
       "      <td>Andersson, Miss. Ebba Iris Alfrida</td>\n",
       "      <td>female</td>\n",
       "      <td>6.0</td>\n",
       "      <td>4</td>\n",
       "      <td>2</td>\n",
       "      <td>347082</td>\n",
       "      <td>31.2750</td>\n",
       "      <td>NaN</td>\n",
       "      <td>S</td>\n",
       "    </tr>\n",
       "  </tbody>\n",
       "</table>\n",
       "</div>"
      ],
      "text/plain": [
       "     PassengerId  Pclass                                Name     Sex   Age  \\\n",
       "331          332       1                 Partner, Mr. Austen    male  45.5   \n",
       "733          734       2          Berriman, Mr. William John    male  23.0   \n",
       "382          383       3                  Tikkanen, Mr. Juho    male  32.0   \n",
       "704          705       3             Hansen, Mr. Henrik Juul    male  26.0   \n",
       "813          814       3  Andersson, Miss. Ebba Iris Alfrida  female   6.0   \n",
       "\n",
       "     SibSp  Parch             Ticket     Fare Cabin Embarked  \n",
       "331      0      0             113043  28.5000  C124        S  \n",
       "733      0      0              28425  13.0000   NaN        S  \n",
       "382      0      0  STON/O 2. 3101293   7.9250   NaN        S  \n",
       "704      1      0             350025   7.8542   NaN        S  \n",
       "813      4      2             347082  31.2750   NaN        S  "
      ]
     },
     "execution_count": 396,
     "metadata": {},
     "output_type": "execute_result"
    }
   ],
   "source": [
    "X_train.head()"
   ]
  },
  {
   "cell_type": "code",
   "execution_count": 397,
   "id": "e30d0e02",
   "metadata": {},
   "outputs": [
    {
     "data": {
      "text/plain": [
       "331    0\n",
       "733    0\n",
       "382    0\n",
       "704    0\n",
       "813    0\n",
       "Name: Survived, dtype: int64"
      ]
     },
     "execution_count": 397,
     "metadata": {},
     "output_type": "execute_result"
    }
   ],
   "source": [
    "y_train.head()"
   ]
  },
  {
   "cell_type": "code",
   "execution_count": 398,
   "id": "623ee638",
   "metadata": {},
   "outputs": [
    {
     "name": "stderr",
     "output_type": "stream",
     "text": [
      "/var/folders/9f/1hk18dzn08gb5kwkypnyscnc0000gn/T/ipykernel_8851/131534602.py:1: FutureWarning: The default value of numeric_only in DataFrame.corr is deprecated. In a future version, it will default to False. Select only valid columns or specify the value of numeric_only to silence this warning.\n",
      "  X_train.corr()\n"
     ]
    },
    {
     "data": {
      "text/html": [
       "<div>\n",
       "<style scoped>\n",
       "    .dataframe tbody tr th:only-of-type {\n",
       "        vertical-align: middle;\n",
       "    }\n",
       "\n",
       "    .dataframe tbody tr th {\n",
       "        vertical-align: top;\n",
       "    }\n",
       "\n",
       "    .dataframe thead th {\n",
       "        text-align: right;\n",
       "    }\n",
       "</style>\n",
       "<table border=\"1\" class=\"dataframe\">\n",
       "  <thead>\n",
       "    <tr style=\"text-align: right;\">\n",
       "      <th></th>\n",
       "      <th>PassengerId</th>\n",
       "      <th>Pclass</th>\n",
       "      <th>Age</th>\n",
       "      <th>SibSp</th>\n",
       "      <th>Parch</th>\n",
       "      <th>Fare</th>\n",
       "    </tr>\n",
       "  </thead>\n",
       "  <tbody>\n",
       "    <tr>\n",
       "      <th>PassengerId</th>\n",
       "      <td>1.000000</td>\n",
       "      <td>-0.046175</td>\n",
       "      <td>0.032565</td>\n",
       "      <td>-0.069226</td>\n",
       "      <td>-0.000217</td>\n",
       "      <td>0.025517</td>\n",
       "    </tr>\n",
       "    <tr>\n",
       "      <th>Pclass</th>\n",
       "      <td>-0.046175</td>\n",
       "      <td>1.000000</td>\n",
       "      <td>-0.355950</td>\n",
       "      <td>0.086933</td>\n",
       "      <td>0.012679</td>\n",
       "      <td>-0.546794</td>\n",
       "    </tr>\n",
       "    <tr>\n",
       "      <th>Age</th>\n",
       "      <td>0.032565</td>\n",
       "      <td>-0.355950</td>\n",
       "      <td>1.000000</td>\n",
       "      <td>-0.320916</td>\n",
       "      <td>-0.207040</td>\n",
       "      <td>0.088103</td>\n",
       "    </tr>\n",
       "    <tr>\n",
       "      <th>SibSp</th>\n",
       "      <td>-0.069226</td>\n",
       "      <td>0.086933</td>\n",
       "      <td>-0.320916</td>\n",
       "      <td>1.000000</td>\n",
       "      <td>0.440355</td>\n",
       "      <td>0.153011</td>\n",
       "    </tr>\n",
       "    <tr>\n",
       "      <th>Parch</th>\n",
       "      <td>-0.000217</td>\n",
       "      <td>0.012679</td>\n",
       "      <td>-0.207040</td>\n",
       "      <td>0.440355</td>\n",
       "      <td>1.000000</td>\n",
       "      <td>0.222180</td>\n",
       "    </tr>\n",
       "    <tr>\n",
       "      <th>Fare</th>\n",
       "      <td>0.025517</td>\n",
       "      <td>-0.546794</td>\n",
       "      <td>0.088103</td>\n",
       "      <td>0.153011</td>\n",
       "      <td>0.222180</td>\n",
       "      <td>1.000000</td>\n",
       "    </tr>\n",
       "  </tbody>\n",
       "</table>\n",
       "</div>"
      ],
      "text/plain": [
       "             PassengerId    Pclass       Age     SibSp     Parch      Fare\n",
       "PassengerId     1.000000 -0.046175  0.032565 -0.069226 -0.000217  0.025517\n",
       "Pclass         -0.046175  1.000000 -0.355950  0.086933  0.012679 -0.546794\n",
       "Age             0.032565 -0.355950  1.000000 -0.320916 -0.207040  0.088103\n",
       "SibSp          -0.069226  0.086933 -0.320916  1.000000  0.440355  0.153011\n",
       "Parch          -0.000217  0.012679 -0.207040  0.440355  1.000000  0.222180\n",
       "Fare            0.025517 -0.546794  0.088103  0.153011  0.222180  1.000000"
      ]
     },
     "execution_count": 398,
     "metadata": {},
     "output_type": "execute_result"
    }
   ],
   "source": [
    "X_train.corr()"
   ]
  },
  {
   "cell_type": "code",
   "execution_count": 399,
   "id": "cc8df0c7",
   "metadata": {},
   "outputs": [
    {
     "name": "stdout",
     "output_type": "stream",
     "text": [
      "<class 'pandas.core.frame.DataFrame'>\n",
      "Int64Index: 712 entries, 331 to 102\n",
      "Data columns (total 11 columns):\n",
      " #   Column       Non-Null Count  Dtype  \n",
      "---  ------       --------------  -----  \n",
      " 0   PassengerId  712 non-null    int64  \n",
      " 1   Pclass       712 non-null    int64  \n",
      " 2   Name         712 non-null    object \n",
      " 3   Sex          712 non-null    object \n",
      " 4   Age          572 non-null    float64\n",
      " 5   SibSp        712 non-null    int64  \n",
      " 6   Parch        712 non-null    int64  \n",
      " 7   Ticket       712 non-null    object \n",
      " 8   Fare         712 non-null    float64\n",
      " 9   Cabin        159 non-null    object \n",
      " 10  Embarked     710 non-null    object \n",
      "dtypes: float64(2), int64(4), object(5)\n",
      "memory usage: 66.8+ KB\n"
     ]
    }
   ],
   "source": [
    "X_train.info()"
   ]
  },
  {
   "cell_type": "markdown",
   "id": "ab1cc3bf",
   "metadata": {},
   "source": [
    "### Procesado y transformación de datos\n",
    "<10%> ¿Qué transformaciones debería aplicar? Especifique y justifique por grupo de columnas.\n",
    "\n",
    "Por ejemplo: columna A, B y C aplicaría transformación X porque ...\n",
    "\n",
    "Escriba los nombres de las columna en una lista por cada grupo:"
   ]
  },
  {
   "attachments": {},
   "cell_type": "markdown",
   "id": "6fd28b73",
   "metadata": {},
   "source": [
    "rta: En primer lugar, debemos rellenar los datos que no tenemos en la columna 'Age' debido a que algunos algoritmos no permiten los datos vacios o pueden causar un mal funcionamiento de los mismos. Para eso utilizamos un 'Imputer', que a partir de la medida que nosotros seleccionemos, rellenara los datos faltantes.\n",
    "\n",
    "En segundo lugar, a las columnas 'Sex' y 'Embarked' les aplicamos la transformacion de 'OneHotEncoder' de sklearn para convertir las variables categoricas (en sex Male y Female, en Embarked las letras) en variables numéricas binarias para permitir su procesamiento.\n",
    "\n",
    "Por ultimo, removemos las columnas que no utilizaremos:\n",
    "\n",
    "- Embarked y sex, ya que se crearon las nuevas columnas\n",
    "- Ticket, Fare, Cabin y Name, ya que no afectan significativamente a la supervivencia (X_Train.corr())"
   ]
  },
  {
   "cell_type": "markdown",
   "id": "af6cc0c0",
   "metadata": {},
   "source": [
    "<15%> A continuación escriba el código para realizar las transformaciones transformaciones"
   ]
  },
  {
   "cell_type": "code",
   "execution_count": 400,
   "id": "4a623b1f",
   "metadata": {},
   "outputs": [
    {
     "name": "stdout",
     "output_type": "stream",
     "text": [
      "<class 'pandas.core.frame.DataFrame'>\n",
      "Int64Index: 712 entries, 331 to 102\n",
      "Data columns (total 11 columns):\n",
      " #   Column       Non-Null Count  Dtype  \n",
      "---  ------       --------------  -----  \n",
      " 0   PassengerId  712 non-null    int64  \n",
      " 1   Pclass       712 non-null    int64  \n",
      " 2   Name         712 non-null    object \n",
      " 3   Sex          712 non-null    object \n",
      " 4   Age          712 non-null    float64\n",
      " 5   SibSp        712 non-null    int64  \n",
      " 6   Parch        712 non-null    int64  \n",
      " 7   Ticket       712 non-null    object \n",
      " 8   Fare         712 non-null    float64\n",
      " 9   Cabin        159 non-null    object \n",
      " 10  Embarked     710 non-null    object \n",
      "dtypes: float64(2), int64(4), object(5)\n",
      "memory usage: 66.8+ KB\n"
     ]
    }
   ],
   "source": [
    "# Imputer\n",
    "\n",
    "from sklearn.impute import SimpleImputer\n",
    "imputer = SimpleImputer(strategy=\"median\")\n",
    "X_train[\"Age\"] = imputer.fit_transform(X_train[[\"Age\"]])\n",
    "X_test[\"Age\"] = imputer.fit_transform(X_test[[\"Age\"]])\n",
    "\n",
    "X_train.info()\n",
    "\n",
    "# pasamos de 572 non-null Ages a 712 non-null Ages\n"
   ]
  },
  {
   "cell_type": "code",
   "execution_count": 401,
   "metadata": {},
   "outputs": [
    {
     "name": "stdout",
     "output_type": "stream",
     "text": [
      "<class 'pandas.core.frame.DataFrame'>\n",
      "Int64Index: 712 entries, 331 to 102\n",
      "Data columns (total 13 columns):\n",
      " #   Column       Non-Null Count  Dtype  \n",
      "---  ------       --------------  -----  \n",
      " 0   PassengerId  712 non-null    int64  \n",
      " 1   Pclass       712 non-null    int64  \n",
      " 2   Name         712 non-null    object \n",
      " 3   Sex          712 non-null    object \n",
      " 4   Female       712 non-null    float64\n",
      " 5   Male         712 non-null    float64\n",
      " 6   Age          712 non-null    float64\n",
      " 7   SibSp        712 non-null    int64  \n",
      " 8   Parch        712 non-null    int64  \n",
      " 9   Ticket       712 non-null    object \n",
      " 10  Fare         712 non-null    float64\n",
      " 11  Cabin        159 non-null    object \n",
      " 12  Embarked     710 non-null    object \n",
      "dtypes: float64(4), int64(4), object(5)\n",
      "memory usage: 77.9+ KB\n"
     ]
    }
   ],
   "source": [
    "from sklearn.preprocessing import OneHotEncoder\n",
    "encoder = OneHotEncoder()\n",
    "\n",
    "col_sex = encoder.fit_transform(X_train[[\"Sex\"]])\n",
    "col_sex_test = encoder.fit_transform(X_test[[\"Sex\"]])\n",
    "\n",
    "# Necesitamos girar para poder accederlos como array\n",
    "arr_sex = col_sex.toarray().T \n",
    "arr_sex_test = col_sex_test.toarray().T \n",
    "\n",
    "\n",
    "# Insertamos las nuevas columnas\n",
    "X_train.insert(4, \"Female\", arr_sex[0]) \n",
    "X_train.insert(5, \"Male\", arr_sex[1]) \n",
    "X_test.insert(4, \"Female\", arr_sex_test[0]) \n",
    "X_test.insert(5, \"Male\", arr_sex_test[1])\n",
    "\n",
    "X_train.info()"
   ]
  },
  {
   "cell_type": "code",
   "execution_count": 402,
   "id": "62a77f18",
   "metadata": {},
   "outputs": [
    {
     "name": "stdout",
     "output_type": "stream",
     "text": [
      "<class 'pandas.core.frame.DataFrame'>\n",
      "Int64Index: 712 entries, 331 to 102\n",
      "Data columns (total 17 columns):\n",
      " #   Column       Non-Null Count  Dtype  \n",
      "---  ------       --------------  -----  \n",
      " 0   PassengerId  712 non-null    int64  \n",
      " 1   Pclass       712 non-null    int64  \n",
      " 2   Name         712 non-null    object \n",
      " 3   Sex          712 non-null    object \n",
      " 4   Female       712 non-null    float64\n",
      " 5   Male         712 non-null    float64\n",
      " 6   C            712 non-null    float64\n",
      " 7   Q            712 non-null    float64\n",
      " 8   S            712 non-null    float64\n",
      " 9   N            712 non-null    float64\n",
      " 10  Age          712 non-null    float64\n",
      " 11  SibSp        712 non-null    int64  \n",
      " 12  Parch        712 non-null    int64  \n",
      " 13  Ticket       712 non-null    object \n",
      " 14  Fare         712 non-null    float64\n",
      " 15  Cabin        159 non-null    object \n",
      " 16  Embarked     710 non-null    object \n",
      "dtypes: float64(8), int64(4), object(5)\n",
      "memory usage: 100.1+ KB\n"
     ]
    }
   ],
   "source": [
    "# Aplicamos el encoder para Embark\n",
    "\n",
    "from sklearn.preprocessing import OneHotEncoder\n",
    "\n",
    "encoderEmbark = OneHotEncoder()\n",
    "\n",
    "# Aplicamos OneHotEncoder a la variable \"Embarked\"\n",
    "col_embarked_train = encoderEmbark.fit_transform(X_train[[\"Embarked\"]])\n",
    "col_embarked_test = encoderEmbark.transform(X_test[[\"Embarked\"]])\n",
    "\n",
    "# C = 1, q=2,S=3, nan\n",
    "\n",
    "# Necesitamos girar para poder accederlos como array\n",
    "arr_embarked_train = col_embarked_train.toarray().T \n",
    "arr_embarked_test = col_embarked_test.toarray().T \n",
    "\n",
    "# Insertamos \n",
    "X_train.insert(6, \"C\", arr_embarked_train[0]) \n",
    "X_train.insert(7, \"Q\", arr_embarked_train[1]) \n",
    "X_train.insert(8, \"S\", arr_embarked_train[2]) \n",
    "X_train.insert(9, \"N\", arr_embarked_train[3]) \n",
    "X_test.insert(6, \"C\", arr_embarked_test[0]) \n",
    "X_test.insert(7, \"Q\", arr_embarked_test[1]) \n",
    "X_test.insert(8, \"S\", arr_embarked_test[2]) \n",
    "X_test.insert(9, \"N\", arr_embarked_test[3])\n",
    "\n",
    "# Imprimimos información sobre los conjuntos de entrenamiento y prueba\n",
    "X_train.info()\n"
   ]
  },
  {
   "cell_type": "code",
   "execution_count": 403,
   "id": "5e3749e8",
   "metadata": {},
   "outputs": [
    {
     "data": {
      "text/html": [
       "<div>\n",
       "<style scoped>\n",
       "    .dataframe tbody tr th:only-of-type {\n",
       "        vertical-align: middle;\n",
       "    }\n",
       "\n",
       "    .dataframe tbody tr th {\n",
       "        vertical-align: top;\n",
       "    }\n",
       "\n",
       "    .dataframe thead th {\n",
       "        text-align: right;\n",
       "    }\n",
       "</style>\n",
       "<table border=\"1\" class=\"dataframe\">\n",
       "  <thead>\n",
       "    <tr style=\"text-align: right;\">\n",
       "      <th></th>\n",
       "      <th>PassengerId</th>\n",
       "      <th>Pclass</th>\n",
       "      <th>Female</th>\n",
       "      <th>Male</th>\n",
       "      <th>C</th>\n",
       "      <th>Q</th>\n",
       "      <th>S</th>\n",
       "      <th>Age</th>\n",
       "      <th>SibSp</th>\n",
       "      <th>Parch</th>\n",
       "      <th>Fare</th>\n",
       "    </tr>\n",
       "  </thead>\n",
       "  <tbody>\n",
       "    <tr>\n",
       "      <th>331</th>\n",
       "      <td>332</td>\n",
       "      <td>1</td>\n",
       "      <td>0.0</td>\n",
       "      <td>1.0</td>\n",
       "      <td>0.0</td>\n",
       "      <td>0.0</td>\n",
       "      <td>1.0</td>\n",
       "      <td>45.5</td>\n",
       "      <td>0</td>\n",
       "      <td>0</td>\n",
       "      <td>28.5000</td>\n",
       "    </tr>\n",
       "    <tr>\n",
       "      <th>733</th>\n",
       "      <td>734</td>\n",
       "      <td>2</td>\n",
       "      <td>0.0</td>\n",
       "      <td>1.0</td>\n",
       "      <td>0.0</td>\n",
       "      <td>0.0</td>\n",
       "      <td>1.0</td>\n",
       "      <td>23.0</td>\n",
       "      <td>0</td>\n",
       "      <td>0</td>\n",
       "      <td>13.0000</td>\n",
       "    </tr>\n",
       "    <tr>\n",
       "      <th>382</th>\n",
       "      <td>383</td>\n",
       "      <td>3</td>\n",
       "      <td>0.0</td>\n",
       "      <td>1.0</td>\n",
       "      <td>0.0</td>\n",
       "      <td>0.0</td>\n",
       "      <td>1.0</td>\n",
       "      <td>32.0</td>\n",
       "      <td>0</td>\n",
       "      <td>0</td>\n",
       "      <td>7.9250</td>\n",
       "    </tr>\n",
       "    <tr>\n",
       "      <th>704</th>\n",
       "      <td>705</td>\n",
       "      <td>3</td>\n",
       "      <td>0.0</td>\n",
       "      <td>1.0</td>\n",
       "      <td>0.0</td>\n",
       "      <td>0.0</td>\n",
       "      <td>1.0</td>\n",
       "      <td>26.0</td>\n",
       "      <td>1</td>\n",
       "      <td>0</td>\n",
       "      <td>7.8542</td>\n",
       "    </tr>\n",
       "    <tr>\n",
       "      <th>813</th>\n",
       "      <td>814</td>\n",
       "      <td>3</td>\n",
       "      <td>1.0</td>\n",
       "      <td>0.0</td>\n",
       "      <td>0.0</td>\n",
       "      <td>0.0</td>\n",
       "      <td>1.0</td>\n",
       "      <td>6.0</td>\n",
       "      <td>4</td>\n",
       "      <td>2</td>\n",
       "      <td>31.2750</td>\n",
       "    </tr>\n",
       "    <tr>\n",
       "      <th>...</th>\n",
       "      <td>...</td>\n",
       "      <td>...</td>\n",
       "      <td>...</td>\n",
       "      <td>...</td>\n",
       "      <td>...</td>\n",
       "      <td>...</td>\n",
       "      <td>...</td>\n",
       "      <td>...</td>\n",
       "      <td>...</td>\n",
       "      <td>...</td>\n",
       "      <td>...</td>\n",
       "    </tr>\n",
       "    <tr>\n",
       "      <th>106</th>\n",
       "      <td>107</td>\n",
       "      <td>3</td>\n",
       "      <td>1.0</td>\n",
       "      <td>0.0</td>\n",
       "      <td>0.0</td>\n",
       "      <td>0.0</td>\n",
       "      <td>1.0</td>\n",
       "      <td>21.0</td>\n",
       "      <td>0</td>\n",
       "      <td>0</td>\n",
       "      <td>7.6500</td>\n",
       "    </tr>\n",
       "    <tr>\n",
       "      <th>270</th>\n",
       "      <td>271</td>\n",
       "      <td>1</td>\n",
       "      <td>0.0</td>\n",
       "      <td>1.0</td>\n",
       "      <td>0.0</td>\n",
       "      <td>0.0</td>\n",
       "      <td>1.0</td>\n",
       "      <td>28.0</td>\n",
       "      <td>0</td>\n",
       "      <td>0</td>\n",
       "      <td>31.0000</td>\n",
       "    </tr>\n",
       "    <tr>\n",
       "      <th>860</th>\n",
       "      <td>861</td>\n",
       "      <td>3</td>\n",
       "      <td>0.0</td>\n",
       "      <td>1.0</td>\n",
       "      <td>0.0</td>\n",
       "      <td>0.0</td>\n",
       "      <td>1.0</td>\n",
       "      <td>41.0</td>\n",
       "      <td>2</td>\n",
       "      <td>0</td>\n",
       "      <td>14.1083</td>\n",
       "    </tr>\n",
       "    <tr>\n",
       "      <th>435</th>\n",
       "      <td>436</td>\n",
       "      <td>1</td>\n",
       "      <td>1.0</td>\n",
       "      <td>0.0</td>\n",
       "      <td>0.0</td>\n",
       "      <td>0.0</td>\n",
       "      <td>1.0</td>\n",
       "      <td>14.0</td>\n",
       "      <td>1</td>\n",
       "      <td>2</td>\n",
       "      <td>120.0000</td>\n",
       "    </tr>\n",
       "    <tr>\n",
       "      <th>102</th>\n",
       "      <td>103</td>\n",
       "      <td>1</td>\n",
       "      <td>0.0</td>\n",
       "      <td>1.0</td>\n",
       "      <td>0.0</td>\n",
       "      <td>0.0</td>\n",
       "      <td>1.0</td>\n",
       "      <td>21.0</td>\n",
       "      <td>0</td>\n",
       "      <td>1</td>\n",
       "      <td>77.2875</td>\n",
       "    </tr>\n",
       "  </tbody>\n",
       "</table>\n",
       "<p>712 rows × 11 columns</p>\n",
       "</div>"
      ],
      "text/plain": [
       "     PassengerId  Pclass  Female  Male    C    Q    S   Age  SibSp  Parch  \\\n",
       "331          332       1     0.0   1.0  0.0  0.0  1.0  45.5      0      0   \n",
       "733          734       2     0.0   1.0  0.0  0.0  1.0  23.0      0      0   \n",
       "382          383       3     0.0   1.0  0.0  0.0  1.0  32.0      0      0   \n",
       "704          705       3     0.0   1.0  0.0  0.0  1.0  26.0      1      0   \n",
       "813          814       3     1.0   0.0  0.0  0.0  1.0   6.0      4      2   \n",
       "..           ...     ...     ...   ...  ...  ...  ...   ...    ...    ...   \n",
       "106          107       3     1.0   0.0  0.0  0.0  1.0  21.0      0      0   \n",
       "270          271       1     0.0   1.0  0.0  0.0  1.0  28.0      0      0   \n",
       "860          861       3     0.0   1.0  0.0  0.0  1.0  41.0      2      0   \n",
       "435          436       1     1.0   0.0  0.0  0.0  1.0  14.0      1      2   \n",
       "102          103       1     0.0   1.0  0.0  0.0  1.0  21.0      0      1   \n",
       "\n",
       "         Fare  \n",
       "331   28.5000  \n",
       "733   13.0000  \n",
       "382    7.9250  \n",
       "704    7.8542  \n",
       "813   31.2750  \n",
       "..        ...  \n",
       "106    7.6500  \n",
       "270   31.0000  \n",
       "860   14.1083  \n",
       "435  120.0000  \n",
       "102   77.2875  \n",
       "\n",
       "[712 rows x 11 columns]"
      ]
     },
     "execution_count": 403,
     "metadata": {},
     "output_type": "execute_result"
    }
   ],
   "source": [
    "# Removemos los datos que no nos sirven\n",
    "\n",
    "for set_ in (X_train, X_test):\n",
    "    set_.drop(['Embarked','Sex','N','Ticket','Cabin','Name'], axis=1, errors=\"ignore\", inplace=True)\n",
    "\n",
    "X_train"
   ]
  },
  {
   "cell_type": "code",
   "execution_count": 404,
   "id": "51a4b3f8",
   "metadata": {},
   "outputs": [
    {
     "name": "stdout",
     "output_type": "stream",
     "text": [
      "<class 'pandas.core.frame.DataFrame'>\n",
      "Int64Index: 712 entries, 331 to 102\n",
      "Data columns (total 11 columns):\n",
      " #   Column       Non-Null Count  Dtype  \n",
      "---  ------       --------------  -----  \n",
      " 0   PassengerId  712 non-null    int64  \n",
      " 1   Pclass       712 non-null    int64  \n",
      " 2   Female       712 non-null    float64\n",
      " 3   Male         712 non-null    float64\n",
      " 4   C            712 non-null    float64\n",
      " 5   Q            712 non-null    float64\n",
      " 6   S            712 non-null    float64\n",
      " 7   Age          712 non-null    float64\n",
      " 8   SibSp        712 non-null    int64  \n",
      " 9   Parch        712 non-null    int64  \n",
      " 10  Fare         712 non-null    float64\n",
      "dtypes: float64(7), int64(4)\n",
      "memory usage: 66.8 KB\n"
     ]
    }
   ],
   "source": [
    "X_train.info()"
   ]
  },
  {
   "cell_type": "markdown",
   "id": "76693b97",
   "metadata": {},
   "source": [
    "### Selección de modelo y entrenamiento\n",
    " \n"
   ]
  },
  {
   "cell_type": "code",
   "execution_count": 405,
   "id": "8a371dfd",
   "metadata": {},
   "outputs": [],
   "source": [
    "from sklearn.linear_model import LogisticRegression\n",
    "from sklearn.ensemble import RandomForestClassifier\n",
    "cla_log = LogisticRegression(max_iter=10000)\n",
    "cla_rf = RandomForestClassifier()"
   ]
  },
  {
   "attachments": {},
   "cell_type": "markdown",
   "id": "63386e19",
   "metadata": {},
   "source": [
    "<15%>Utilice validación cruzada para evaluar los modelos que se importaron. \n",
    "Utilice el de area bajo la curva roc mas alto.\n",
    "Utilizar el metodo \"cross_val_predict\", tenga en cuenta que la variable, \"method\" para el LogisticRegression es \"decision_function\" y para RandomForestClassifier es \"predict_proba\" (ver clase o libro)\n",
    "\n",
    "<10%>¿Por qué lo eligiria el modelo por el area bajo la curva roc?"
   ]
  },
  {
   "cell_type": "code",
   "execution_count": 406,
   "id": "06b39809",
   "metadata": {},
   "outputs": [
    {
     "data": {
      "text/plain": [
       "array([0.81818182, 0.81118881, 0.78873239, 0.73239437, 0.8028169 ])"
      ]
     },
     "execution_count": 406,
     "metadata": {},
     "output_type": "execute_result"
    }
   ],
   "source": [
    "# validacion cruzada de LogisticRegression\n",
    "\n",
    "from sklearn.model_selection import cross_val_score\n",
    "\n",
    "cross_val_score(cla_log, X_train, y_train, cv=5, scoring=\"accuracy\")\n"
   ]
  },
  {
   "cell_type": "code",
   "execution_count": 407,
   "id": "e69e5583",
   "metadata": {},
   "outputs": [
    {
     "data": {
      "image/png": "[encoded data removed]",
      "text/plain": [
       "<Figure size 640x480 with 1 Axes>"
      ]
     },
     "metadata": {},
     "output_type": "display_data"
    }
   ],
   "source": [
    "# ROC de LR\n",
    "\n",
    "from sklearn.model_selection import cross_val_predict\n",
    "\n",
    "y_scores = cross_val_predict(cla_log, X_train, y_train, cv=3, method=\"decision_function\")\n",
    "\n",
    "from sklearn.metrics import roc_curve \n",
    "\n",
    "fpr, tpr, thresholds = roc_curve(y_train, y_scores) \n",
    "\n",
    "def plot_roc_curve(fpr, tpr, label=None): \n",
    "    plt.plot(fpr, tpr, linewidth=2, label=label) \n",
    "    plt.plot([0, 1], [0, 1], 'k--') # Dashed diagonal \n",
    "    [...] # Add axis labels and grid Lo  \n",
    "\n",
    "plot_roc_curve(fpr, tpr) \n",
    "plt.show() \n"
   ]
  },
  {
   "cell_type": "code",
   "execution_count": 408,
   "id": "d4007b9a",
   "metadata": {},
   "outputs": [
    {
     "data": {
      "text/plain": [
       "0.8367789431222268"
      ]
     },
     "execution_count": 408,
     "metadata": {},
     "output_type": "execute_result"
    }
   ],
   "source": [
    "# Score de la curva ROC de LinearRegression\n",
    "from sklearn.metrics import roc_auc_score\n",
    "\n",
    "roc_auc_score(y_train, y_scores)"
   ]
  },
  {
   "cell_type": "code",
   "execution_count": 409,
   "id": "fb6f26ee",
   "metadata": {},
   "outputs": [
    {
     "data": {
      "text/plain": [
       "array([0.83216783, 0.82517483, 0.78873239, 0.78169014, 0.80985915])"
      ]
     },
     "execution_count": 409,
     "metadata": {},
     "output_type": "execute_result"
    }
   ],
   "source": [
    "# val cruzada de RFC\n",
    "\n",
    "cross_val_score(cla_rf, X_train, y_train, cv=5, scoring=\"accuracy\")"
   ]
  },
  {
   "cell_type": "code",
   "execution_count": 410,
   "metadata": {},
   "outputs": [
    {
     "data": {
      "image/png": "[encoded data removed]",
      "text/plain": [
       "<Figure size 640x480 with 1 Axes>"
      ]
     },
     "metadata": {},
     "output_type": "display_data"
    }
   ],
   "source": [
    "\n",
    "from sklearn.model_selection import cross_val_predict\n",
    "\n",
    "y_probas_forest = cross_val_predict(cla_rf, X_train, y_train, cv=3,method=\"predict_proba\") \n",
    "y_scores_forest = y_probas_forest[:, 1]\n",
    "fpr_forest, tpr_forest, thresholds_forest = roc_curve(y_train, y_scores_forest)\n",
    "plot_roc_curve(fpr_forest, tpr_forest, \"Random Forest\")\n",
    "plt.legend(loc=\"lower right\")\n",
    "plt.show()\n",
    "\n"
   ]
  },
  {
   "cell_type": "code",
   "execution_count": 411,
   "id": "7bbdd42c",
   "metadata": {},
   "outputs": [
    {
     "data": {
      "text/plain": [
       "0.8463131975258841"
      ]
     },
     "execution_count": 411,
     "metadata": {},
     "output_type": "execute_result"
    }
   ],
   "source": [
    "# Score de la curva ROC de Forest\n",
    "from sklearn.metrics import roc_auc_score\n",
    "\n",
    "roc_auc_score(y_train, y_scores_forest)\n",
    "\n",
    "# El score de Forest es mayor"
   ]
  },
  {
   "cell_type": "markdown",
   "id": "13659879",
   "metadata": {},
   "source": [
    "<15>Utilice el metodo grid search sobre el modelo elegido  \n",
    "en caso de ser LogisticRegression\n",
    "```\n",
    "param_grid = [\n",
    "{'C': [0.1, 1, 10], 'penalty': ['elasticnet'], 'l1_ratio': [0.,0.2,0.4]}\n",
    "]\n",
    "```\n",
    "en caso de ser RandomForest utilize:\n",
    "```\n",
    "param_grid = [\n",
    "{'n_estimators': [30, 100], 'max_features': [2, 4, 6, 8]}\n",
    "]\n",
    "```\n",
    "¿Cuál es el sentido de hacer esto?"
   ]
  },
  {
   "cell_type": "code",
   "execution_count": 440,
   "id": "3229a234",
   "metadata": {},
   "outputs": [
    {
     "data": {
      "text/plain": [
       "{'max_features': 4, 'n_estimators': 30}"
      ]
     },
     "execution_count": 440,
     "metadata": {},
     "output_type": "execute_result"
    }
   ],
   "source": [
    "\n",
    "from sklearn.model_selection import GridSearchCV\n",
    "\n",
    "# Guardamos el valor de la val_cruzada\n",
    "scores = cross_val_score(cla_rf, X_train, y_train, cv=3, scoring=\"accuracy\")\n",
    "\n",
    "param_grid = [\n",
    "    {'n_estimators': [30, 100], 'max_features': [2, 4, 6, 8]}\n",
    "] \n",
    "# lista de parametros\n",
    "\n",
    "grid_search = GridSearchCV(cla_rf, param_grid, cv=3, scoring=\"accuracy\")\n",
    "grid_search.fit(X_train, y_train)\n",
    "grid_search.best_params_\n",
    "\n",
    "\n",
    "# Realizamos esto para conocer cuales son los mejores hiperparametros \n",
    "# para entrenar el modelo RandomForest. \n",
    "# En este caso obtenemos las max_features y el numero de estimators.\n"
   ]
  },
  {
   "cell_type": "code",
   "execution_count": 441,
   "id": "4dfffd67",
   "metadata": {},
   "outputs": [
    {
     "data": {
      "text/plain": [
       "0.8146178302544648"
      ]
     },
     "execution_count": 441,
     "metadata": {},
     "output_type": "execute_result"
    }
   ],
   "source": [
    "grid_search.best_score_"
   ]
  },
  {
   "cell_type": "markdown",
   "id": "74e145bf",
   "metadata": {},
   "source": [
    "<5%>Imprima el valor de accuracy, recall, precision, f1 y auc_roc, en las regiones de validación"
   ]
  },
  {
   "cell_type": "code",
   "execution_count": 443,
   "id": "6a05fc0a",
   "metadata": {},
   "outputs": [
    {
     "name": "stdout",
     "output_type": "stream",
     "text": [
      "0.8061797752808989\n",
      "0.6716417910447762\n",
      "0.782608695652174\n",
      "0.7228915662650602\n",
      "0.7795145892160817\n"
     ]
    }
   ],
   "source": [
    "from sklearn.metrics import accuracy_score, recall_score, precision_score, f1_score, roc_auc_score\n",
    "\n",
    "# usar scores de crossval predict\n",
    "# Y_score > 0.5 as type int \n",
    "best_rf = RandomForestClassifier(n_estimators=30, max_features=4)\n",
    "best_rf.fit(X_train, y_train)\n",
    "\n",
    "y_pred = cross_val_predict(cla_rf, X_train, y_train, cv=3)\n",
    "\n",
    "accuracy = accuracy_score(y_train, y_pred)\n",
    "recall_s = recall_score(y_train, y_pred)\n",
    "precision_s = precision_score(y_train, y_pred)\n",
    "f1_s = f1_score(y_train, y_pred)\n",
    "roc_auc_score_s = roc_auc_score(y_train, y_pred)\n",
    "\n",
    "print (accuracy)\n",
    "print (recall_s)\n",
    "print (precision_s)\n",
    "print (f1_s)\n",
    "print (roc_auc_score_s)\n"
   ]
  },
  {
   "cell_type": "markdown",
   "id": "d1c88337",
   "metadata": {},
   "source": [
    "<5%>Imprima el valor de accuracy, recall, precision, f1 y auc_roc, en las regiones de test, \n",
    "¿Los números son parecido a lo obtenido en las regiones de validación? ¿A qué puede deberse?"
   ]
  },
  {
   "cell_type": "code",
   "execution_count": 445,
   "id": "733a2f15",
   "metadata": {},
   "outputs": [
    {
     "name": "stdout",
     "output_type": "stream",
     "text": [
      "0.7988826815642458\n",
      "0.7972972972972973\n",
      "0.7375\n",
      "0.7662337662337663\n",
      "0.7986486486486487\n"
     ]
    }
   ],
   "source": [
    "from sklearn.metrics import accuracy_score, recall_score, precision_score, f1_score, roc_auc_score\n",
    "\n",
    "best_rf = RandomForestClassifier(n_estimators=100, max_features=6)\n",
    "best_rf.fit(X_test, y_test)\n",
    "\n",
    "y_pred = cross_val_predict(cla_rf, X_test, y_test, cv=3)\n",
    "\n",
    "accuracy = accuracy_score(y_test, y_pred)\n",
    "recall_s = recall_score(y_test, y_pred)\n",
    "precision_s = precision_score(y_test, y_pred)\n",
    "f1_s = f1_score(y_test, y_pred)\n",
    "roc_auc_score_s = roc_auc_score(y_test, y_pred)\n",
    "\n",
    "print (accuracy)\n",
    "print (recall_s)\n",
    "print (precision_s)\n",
    "print (f1_s)\n",
    "print (roc_auc_score_s)\n"
   ]
  }
 ],
 "metadata": {
  "kernelspec": {
   "display_name": "Python 3 (ipykernel)",
   "language": "python",
   "name": "python3"
  },
  "language_info": {
   "codemirror_mode": {
    "name": "ipython",
    "version": 3
   },
   "file_extension": ".py",
   "mimetype": "text/x-python",
   "name": "python",
   "nbconvert_exporter": "python",
   "pygments_lexer": "ipython3",
   "version": "3.9.6"
  }
 },
 "nbformat": 4,
 "nbformat_minor": 5
}
